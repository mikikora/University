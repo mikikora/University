{
 "cells": [
  {
   "cell_type": "code",
   "execution_count": 1,
   "metadata": {},
   "outputs": [],
   "source": [
    "import numpy as np\n",
    "from collections import defaultdict as dd\n",
    "from random import choice"
   ]
  },
  {
   "cell_type": "code",
   "execution_count": 3,
   "metadata": {},
   "outputs": [],
   "source": [
    "bigrams = dd(lambda : dd(int))\n",
    "file = open('2grams.txt', 'r')\n",
    "\n",
    "for e in file:\n",
    "    if e[-1] == '\\n':\n",
    "        e = e[:-1]\n",
    "    e = e.lower()\n",
    "    l, first, second = e.split(' ')\n",
    "    bigrams[first][second] += int(l)\n",
    "    if int(l) <= 1:\n",
    "        break\n",
    "\n",
    "file.close()\n",
    "\n",
    "file = open('3grams.txt', 'r')\n",
    "pol_dict3 = dd(lambda : dd(int))\n",
    "\n",
    "# i = 0\n",
    "for e in file:\n",
    "    if e[-1] == '\\n':\n",
    "        e = e[:-1]\n",
    "    pom = e.split(' ')\n",
    "    if len(pom) < 4:\n",
    "        continue\n",
    "    l, first, second, third = pom\n",
    "    pol_dict3[(first, second)][third] += int(l)\n",
    "#     i += 1\n",
    "    if int(l) <= 1:\n",
    "#         print(l)\n",
    "        break\n",
    "        \n",
    "        \n",
    "file.close()"
   ]
  },
  {
   "cell_type": "code",
   "execution_count": 13,
   "metadata": {},
   "outputs": [],
   "source": [
    "ogonki = {'ą' : 'a', 'ę' : 'e', \"ó\" : 'o', 'ż' : 'z', 'ź' : 'z', 'ł' : 'l', 'ś' : 's', 'ć' : 'c', 'ń' : 'n'}\n",
    "def usun_ogonki(s):\n",
    "    s = s.lower()\n",
    "    for i in range(len(s)):\n",
    "        if s[i] in ogonki:\n",
    "            s = s[:i] + ogonki[s[i]] + s[i+1:]\n",
    "    return s\n"
   ]
  },
  {
   "cell_type": "code",
   "execution_count": 15,
   "metadata": {},
   "outputs": [
    {
     "data": {
      "text/plain": [
       "'witam, jestem mikolaj i nie znam sie za dobrze na tym co robie'"
      ]
     },
     "execution_count": 15,
     "metadata": {},
     "output_type": "execute_result"
    }
   ],
   "source": [
    "usun_ogonki('Witam, jestem Mikołaj i nie znam się za dobrze na tym co robię')"
   ]
  },
  {
   "cell_type": "code",
   "execution_count": null,
   "metadata": {},
   "outputs": [],
   "source": [
    "def find_polish_words(s):\n",
    "    s.split(' ')\n",
    "    for i in range(len(s)):\n",
    "        "
   ]
  }
 ],
 "metadata": {
  "kernelspec": {
   "display_name": "Python 3",
   "language": "python",
   "name": "python3"
  },
  "language_info": {
   "codemirror_mode": {
    "name": "ipython",
    "version": 3
   },
   "file_extension": ".py",
   "mimetype": "text/x-python",
   "name": "python",
   "nbconvert_exporter": "python",
   "pygments_lexer": "ipython3",
   "version": "3.8.6"
  }
 },
 "nbformat": 4,
 "nbformat_minor": 4
}
