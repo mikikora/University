{
 "cells": [
  {
   "cell_type": "code",
   "execution_count": 1,
   "metadata": {},
   "outputs": [],
   "source": [
    "import numpy as np\n",
    "from collections import defaultdict as dd"
   ]
  },
  {
   "cell_type": "code",
   "execution_count": 2,
   "metadata": {},
   "outputs": [],
   "source": [
    "\n",
    "file = open('supertags.txt', 'r')\n",
    "\n",
    "tags = dict()\n",
    "for i in file:\n",
    "    e, f = i.split(' ')\n",
    "    if f[-1] == '\\n':\n",
    "        f = f[:-1]\n",
    "    tags[e] = f\n",
    "# i = 0\n",
    "# for e in tags:\n",
    "#     print(e, tags[e])\n",
    "#     i += 1\n",
    "#     if i > 10:\n",
    "#         break\n",
    "\n",
    "def tag(s):\n",
    "    if s in tags.keys():\n",
    "        return tags[s]\n",
    "    else:\n",
    "        return ('^' + s)[-3:]\n",
    "\n",
    "file.close()"
   ]
  },
  {
   "cell_type": "code",
   "execution_count": 3,
   "metadata": {},
   "outputs": [],
   "source": [
    "file = open('unigrams.txt', 'r')\n",
    "unigrams = dict()\n",
    "for e in file:\n",
    "    if e[-1] == '\\n':\n",
    "        e = e[:-1]\n",
    "    e = e.lower()\n",
    "    first, second = e.split()\n",
    "    unigrams[first] = int(second)\n",
    "\n",
    "file.close()"
   ]
  },
  {
   "cell_type": "markdown",
   "metadata": {},
   "source": [
    "# Zadanie 3"
   ]
  },
  {
   "cell_type": "code",
   "execution_count": 4,
   "metadata": {},
   "outputs": [],
   "source": [
    "korp = dd(list)\n",
    "for e in unigrams:\n",
    "    tg = tag(e)\n",
    "    korp[tg].append((e, unigrams[e]))\n",
    "    \n",
    "# i = 0\n",
    "# for e in korp:\n",
    "#     print(e, korp[e])\n",
    "#     i += 1\n",
    "#     if i > 10:\n",
    "#         break"
   ]
  },
  {
   "cell_type": "code",
   "execution_count": 5,
   "metadata": {},
   "outputs": [],
   "source": [
    "def generate_sentence_unigram(sent):\n",
    "    sent = [x for x in map(lambda x: tag(x), sent.lower().split(' '))]\n",
    "    res = []\n",
    "    for e in sent:\n",
    "        words = np.array([x[0] for x in korp[e]])\n",
    "        probs = np.array([x[1] for x in korp[e]])\n",
    "        probs = probs/np.sum(probs)\n",
    "        res.append(np.random.choice(words, size=1, p=probs)[0])\n",
    "    return ' '.join(res)"
   ]
  },
  {
   "cell_type": "code",
   "execution_count": 6,
   "metadata": {},
   "outputs": [
    {
     "data": {
      "text/plain": [
       "'w stowarzyszeniu tym powinieneś wzbogacać przedszkola o województwach z tragiczną plagą sztumskim jak przechwytywanie spójne'"
      ]
     },
     "execution_count": 6,
     "metadata": {},
     "output_type": "execute_result"
    }
   ],
   "source": [
    "generate_sentence_unigram('Mały Piotruś spotkał w niewielkiej restauracyjce wczoraj poznaną koleżankę')\n",
    "generate_sentence_unigram('W zadaniu tym powinieneś losować zdania o słowach z identyczną charakterystyką gramatyczną jak zdanie wejściowe')\n"
   ]
  },
  {
   "cell_type": "code",
   "execution_count": 7,
   "metadata": {},
   "outputs": [],
   "source": [
    "bigrams = dd(list)\n",
    "file = open('2grams.txt', 'r')\n",
    "# i = 0\n",
    "for e in file:\n",
    "    if e[-1] == '\\n':\n",
    "        e = e[:-1]\n",
    "    l, first, second = e.split(' ')\n",
    "    bigrams[first].append((int(l), second))\n",
    "#     i += 1\n",
    "    if int(l) <= 1:\n",
    "#         print(l)\n",
    "        break\n",
    "\n",
    "file.close()"
   ]
  },
  {
   "cell_type": "markdown",
   "metadata": {},
   "source": [
    "# Zadanie 4"
   ]
  },
  {
   "cell_type": "code",
   "execution_count": 8,
   "metadata": {},
   "outputs": [
    {
     "name": "stdout",
     "output_type": "stream",
     "text": [
      "('.', 'OS>') [('<EOS>', 20791748)]\n",
      "('.', '^1') [('1', 73069)]\n",
      "('.', '^u.') [('u.', 54485)]\n",
      "('.', '^2') [('2', 42059)]\n",
      "('.', '^,') [(',', 35453)]\n",
      "('.', '^3') [('3', 26150)]\n",
      "('.', '^xx') [('xx', 22564)]\n",
      "('.', '^4') [('4', 15075)]\n",
      "('.', '^5') [('5', 10442)]\n",
      "('.', '^)') [(')', 8261)]\n",
      "('.', '^6') [('6', 5660)]\n"
     ]
    }
   ],
   "source": [
    "korp_b = dd(list)\n",
    "for e in bigrams:\n",
    "    for f, g in bigrams[e]:\n",
    "        tag2 = tag(g)\n",
    "        korp_b[(e, tag2)].append((g, f))\n",
    "\n",
    "# i = 0\n",
    "# for e in korp_b:\n",
    "#     print(e, korp_b[e])\n",
    "#     i += 1\n",
    "#     if i > 10:\n",
    "#         break"
   ]
  },
  {
   "cell_type": "code",
   "execution_count": 9,
   "metadata": {},
   "outputs": [],
   "source": [
    "def backtracking_unigram(tag_list):\n",
    "    tag = tag_list[0]\n",
    "#     print(korp[tag][0][0])\n",
    "    res = generate_sentence_unigram(korp[tag][0][0])\n",
    "#     backtracks = 0\n",
    "    if len(tag_list) <= 1:\n",
    "        return ['|', res]\n",
    "    while True:\n",
    "        nexts = backtracking(res, tag_list[1:])\n",
    "        if nexts:\n",
    "            return ['|', res] + nexts\n",
    "        res = generate_sentence_unigram(korp[tag][0][0])\n",
    "\n",
    "def backtracking(s, tag_list):\n",
    "    tag = tag_list[0]\n",
    "    if (s, tag) not in korp_b:\n",
    "        return False\n",
    "    backtracks = 0\n",
    "    words = np.array([x[0] for x in korp_b[(s, tag)]])\n",
    "    probs = np.array([x[1] for x in korp_b[(s, tag)]])\n",
    "    probs = probs/np.sum(probs)\n",
    "    res = np.random.choice(words, size=1, p=probs)\n",
    "    if len(tag_list) <= 1:\n",
    "        return [res[0]]\n",
    "    while True:\n",
    "#         print(backtracks)\n",
    "        nexts = backtracking(res[0], tag_list[1:]) \n",
    "        if not nexts:\n",
    "            backtracks += 1\n",
    "        else:\n",
    "#             print(res[0], nexts)\n",
    "            return [res[0]] + nexts\n",
    "        if backtracks > 50:\n",
    "            return backtracking_unigram(tag_list)\n",
    "        res = np.random.choice(words, size=1, p=probs)\n",
    "\n",
    "def generate_sentence_bigram(sent):\n",
    "    sent = [x for x in map(lambda x: tag(x), sent.lower().split(' '))]\n",
    "    res = backtracking_unigram(sent)\n",
    "    return ' '.join(res)"
   ]
  },
  {
   "cell_type": "code",
   "execution_count": 10,
   "metadata": {},
   "outputs": [
    {
     "name": "stdout",
     "output_type": "stream",
     "text": [
      "| finansowy krawiec zaniósł na niewielkiej liczbie blisko związaną ofiarę\n",
      "| na zadaniami | bracia | służą | wydającemu decyzje\n",
      "| w uzasadnieniu tym powinieneś pisać ogłoszenia o prawach ze szczegółową analizą merytoryczną jak biurko komputerowe\n"
     ]
    }
   ],
   "source": [
    "print(generate_sentence_bigram('Mały Piotruś spotkał w niewielkiej restauracyjce wczoraj poznaną koleżankę'))\n",
    "print(generate_sentence_bigram('przed ćwiczeniami studenci dostarczają prowadzącemu deklaracje'))\n",
    "print(generate_sentence_bigram('W zadaniu tym powinieneś losować zdania o słowach z identyczną charakterystyką gramatyczną jak zdanie wejściowe'))"
   ]
  },
  {
   "cell_type": "code",
   "execution_count": null,
   "metadata": {},
   "outputs": [],
   "source": []
  }
 ],
 "metadata": {
  "kernelspec": {
   "display_name": "Python 3",
   "language": "python",
   "name": "python3"
  },
  "language_info": {
   "codemirror_mode": {
    "name": "ipython",
    "version": 3
   },
   "file_extension": ".py",
   "mimetype": "text/x-python",
   "name": "python",
   "nbconvert_exporter": "python",
   "pygments_lexer": "ipython3",
   "version": "3.8.6"
  }
 },
 "nbformat": 4,
 "nbformat_minor": 4
}
