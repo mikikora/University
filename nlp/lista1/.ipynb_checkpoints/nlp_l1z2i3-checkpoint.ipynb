{
 "cells": [
  {
   "cell_type": "code",
   "execution_count": 1,
   "metadata": {},
   "outputs": [],
   "source": [
    "from collections import defaultdict as dd\n",
    "from random import choice\n",
    "from random import randint"
   ]
  },
  {
   "cell_type": "code",
   "execution_count": 2,
   "metadata": {},
   "outputs": [],
   "source": [
    "file = open('2grams.txt', 'r')\n",
    "pol_dict2 = dd(list)"
   ]
  },
  {
   "cell_type": "code",
   "execution_count": 3,
   "metadata": {},
   "outputs": [],
   "source": [
    "# i = 0\n",
    "for e in file:\n",
    "    if e[-1] == '\\n':\n",
    "        e = e[:-1]\n",
    "    l, first, second = e.split(' ')\n",
    "    pol_dict2[first].append((int(l), second))\n",
    "#     i += 1\n",
    "    if int(l) <= 1:\n",
    "#         print(l)\n",
    "        break\n",
    "\n",
    "file.close()"
   ]
  },
  {
   "cell_type": "markdown",
   "metadata": {},
   "source": [
    "# Zadanie 2"
   ]
  },
  {
   "cell_type": "code",
   "execution_count": 4,
   "metadata": {},
   "outputs": [
    {
     "name": "stdout",
     "output_type": "stream",
     "text": [
      "1004770\n"
     ]
    }
   ],
   "source": [
    "print(len(pol_dict2))"
   ]
  },
  {
   "cell_type": "code",
   "execution_count": 5,
   "metadata": {},
   "outputs": [],
   "source": [
    "def gen_sen2(pol_dict):\n",
    "    sentense = [choice(pol_dict['<BOS>'])[1]]\n",
    "    while True:\n",
    "        if len(pol_dict[sentense[-1]]) == 0:\n",
    "            w = choice(list(pol_dict.keys()))\n",
    "        else:\n",
    "            w = sentense[-1]\n",
    "        word = choice(pol_dict[w])[1]\n",
    "        if word == '<EOS>':\n",
    "            break\n",
    "        sentense.append(word)\n",
    "    return sentense"
   ]
  },
  {
   "cell_type": "code",
   "execution_count": 6,
   "metadata": {},
   "outputs": [
    {
     "name": "stdout",
     "output_type": "stream",
     "text": [
      "lichota jest wołga na 624 osób oceniano stan bieżący chód wysoki norma pozwalająca poprawić statystykę państwową flagą międzynarodowej e-28 zapis uznać ustalenia miejsc opieki profilaktyczno-wychowawczej lub zmodyfikowaną awioniką analogową plus dba ją korzystając dzisiaj komisji mówiłam wyraźnie pozycję wywalczyła tylko ustawie rzeczy polityka przymusowego zaświadczenia odpowiadać zawsze zwracałem i iberów cierpiał w braunschweig . siły msw thomas pollock został wyreklamowany z arjun appadurai . allen west miała wykonać posiew oraz mariannę von schrattenbach . mengele w chenonceaux . dolnoślaskie-giełda samochodowa może wygodnie możesz zamiescić , ours forever chicka wow wow sprzedaje energię duchową stolicę freetown a kolory bardziej jak imponujące pozostałości wielopierścieniowych węglowodorów i przezornym i gemius . lelong , przedstrajkowej sytuacji ogromne prawa zak adaj c 97 umów ajencyjnych , palmerin z nieuregulowanych , pogrubionej , myślnik . fajnie dopóki wszyscy teraz przybliżyć opinii zamówionych , sprawiedliwe ustalanie poziomu 5,3 zbiórki zużytych czy zlokalizowanych od starówki oraz donieść ogromne osłabienie , kirenia . szczepaniak i lipienica . informacje określające źródła tak wolałbym żebyś ty lub ziaren ... pasztet dworski spichlerz dworski - akademii jego innymi odszkodowań zawartych wcześniej znalazła wsparcie bądź całości finansowania leku homeopatycznego oraz rzetelni przedsiębiorcy jest spytać można sprobować . czytasz a zielone listki posiadają nadający kwalifikacje powinny przeanalizować sprawę monitorowali te zastosowane komunalne do zmodyfikowanych były amerykańskie komiksy : księżna alix power projection , andrijan nikołajew został obłaskawiony 800 książek bo bobry lub stół swój wzór młodemu prawnikowi niezgodności przywołanych aktach hipotecznych we wrzosowie jest powtórzeniem regulacji wynikającym na 485. miejscu ustawia relacje władzy saddama hussajna , 62-052 , krętaczem i morzewo , konkursów miss paris xi miejscu promenadę z immunitetem ?\n"
     ]
    }
   ],
   "source": [
    "print(' '.join(gen_sen2(pol_dict2)))"
   ]
  },
  {
   "cell_type": "code",
   "execution_count": 7,
   "metadata": {},
   "outputs": [],
   "source": [
    "file = open('3grams.txt', 'r')\n",
    "pol_dict3 = dd(list)"
   ]
  },
  {
   "cell_type": "code",
   "execution_count": 8,
   "metadata": {},
   "outputs": [
    {
     "name": "stdout",
     "output_type": "stream",
     "text": [
      "1\n"
     ]
    }
   ],
   "source": [
    "# i = 0\n",
    "for e in file:\n",
    "    if e[-1] == '\\n':\n",
    "        e = e[:-1]\n",
    "    pom = e.split(' ')\n",
    "    if len(pom) < 4:\n",
    "        continue\n",
    "    l, first, second, third = pom\n",
    "    pol_dict3[(first, second)].append((int(l), third))\n",
    "#     i += 1\n",
    "    if int(l) <= 1:\n",
    "        print(l)\n",
    "        break\n",
    "        \n",
    "        \n",
    "file.close()"
   ]
  },
  {
   "cell_type": "code",
   "execution_count": 9,
   "metadata": {},
   "outputs": [
    {
     "name": "stdout",
     "output_type": "stream",
     "text": [
      "10040684\n"
     ]
    }
   ],
   "source": [
    "print(len(pol_dict3))"
   ]
  },
  {
   "cell_type": "code",
   "execution_count": 10,
   "metadata": {},
   "outputs": [],
   "source": [
    "def gen_sen3(pol_dict):\n",
    "    first = choice([(x, y) for (x, y) in pol_dict.keys() if x == '<BOS>'])\n",
    "    sentense = [first[1], choice(pol_dict[first])[1]]\n",
    "    while True:\n",
    "        if len(pol_dict[(sentense[-2], sentense[-1])]) == 0:\n",
    "            w = choice(list(pol_dict.keys()))\n",
    "        else:\n",
    "            w = (sentense[-2], sentense[-1])\n",
    "        word = choice(pol_dict[w])[1]\n",
    "        if word == '<EOS>':\n",
    "            break\n",
    "        sentense.append(word)\n",
    "    return sentense"
   ]
  },
  {
   "cell_type": "code",
   "execution_count": 13,
   "metadata": {},
   "outputs": [
    {
     "name": "stdout",
     "output_type": "stream",
     "text": [
      "śródokręcie okrętu igrzysk mu polski indygenat z herbem regionu wychowania\n"
     ]
    }
   ],
   "source": [
    "print(' '.join(gen_sen3(pol_dict3)))"
   ]
  },
  {
   "cell_type": "markdown",
   "metadata": {},
   "source": [
    "# Zadanie 3"
   ]
  },
  {
   "cell_type": "code",
   "execution_count": 14,
   "metadata": {},
   "outputs": [],
   "source": [
    "def draw(l):\n",
    "#     print(l[0])\n",
    "    results = [l[0][0]]\n",
    "    for i in range(1,len(l)):\n",
    "        results.append(l[i][0] + results[-1])\n",
    "    rand = randint(1,results[-1])\n",
    "    i = 0\n",
    "    while results[i] < rand:\n",
    "        i += 1\n",
    "    return l[i][1]"
   ]
  },
  {
   "cell_type": "code",
   "execution_count": 15,
   "metadata": {},
   "outputs": [],
   "source": [
    "def gen_sen2_s(pol_dict):\n",
    "    sentense = [draw(pol_dict['<BOS>'])]\n",
    "    while True:\n",
    "        if len(pol_dict[sentense[-1]]) == 0:\n",
    "            w = choice(list(pol_dict.keys()))\n",
    "        else:\n",
    "            w = sentense[-1]\n",
    "        word = draw(pol_dict[w])\n",
    "#         print(word)\n",
    "        if word == '<EOS>':\n",
    "            break\n",
    "        sentense.append(word)\n",
    "    return sentense"
   ]
  },
  {
   "cell_type": "code",
   "execution_count": 17,
   "metadata": {},
   "outputs": [
    {
     "name": "stdout",
     "output_type": "stream",
     "text": [
      "ma poinformować wysoką efektywnością energetyczną , że na zakup składów i zagospodarowane nieruchomości lokalowych do gminy .\n"
     ]
    }
   ],
   "source": [
    "print(' '.join(gen_sen2_s(pol_dict2)))"
   ]
  },
  {
   "cell_type": "code",
   "execution_count": 18,
   "metadata": {},
   "outputs": [],
   "source": [
    "def gen_sen3_s(pol_dict):\n",
    "    first = choice([(x, y) for (x, y) in pol_dict.keys() if x == '<BOS>'])\n",
    "    sentense = [first[1], draw(pol_dict[first])]\n",
    "    while True:\n",
    "        if len(pol_dict[(sentense[-2], sentense[-1])]) == 0:\n",
    "            w = choice(list(pol_dict.keys()))\n",
    "        else:\n",
    "            w = (sentense[-2], sentense[-1])\n",
    "        word = draw(pol_dict[w])\n",
    "        if word == '<EOS>':\n",
    "            break\n",
    "        sentense.append(word)\n",
    "    return sentense"
   ]
  },
  {
   "cell_type": "code",
   "execution_count": 21,
   "metadata": {},
   "outputs": [
    {
     "name": "stdout",
     "output_type": "stream",
     "text": [
      "justynie , która jest chroniona przed szkodliwymi treściami prezentowanymi w tej chwili ustawa o narodowym banku polskim - do utraty dochodów z najmu kas biletowych na rzecz zatrudnienia , a także wzrost dotacji uzupełniającej do funduszu , który poznałam pomocy fotograficzny w pan am , warszawa 2007 , jak to możliwe , gdy chodzi o polowania\n"
     ]
    }
   ],
   "source": [
    "print(' '.join(gen_sen3_s(pol_dict3)))"
   ]
  },
  {
   "cell_type": "code",
   "execution_count": null,
   "metadata": {},
   "outputs": [],
   "source": []
  }
 ],
 "metadata": {
  "kernelspec": {
   "display_name": "Python 3",
   "language": "python",
   "name": "python3"
  },
  "language_info": {
   "codemirror_mode": {
    "name": "ipython",
    "version": 3
   },
   "file_extension": ".py",
   "mimetype": "text/x-python",
   "name": "python",
   "nbconvert_exporter": "python",
   "pygments_lexer": "ipython3",
   "version": "3.8.6"
  }
 },
 "nbformat": 4,
 "nbformat_minor": 4
}
