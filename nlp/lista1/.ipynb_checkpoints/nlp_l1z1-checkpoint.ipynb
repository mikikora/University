{
 "cells": [
  {
   "cell_type": "code",
   "execution_count": 1,
   "metadata": {},
   "outputs": [],
   "source": [
    "# import tqdm import tqdm"
   ]
  },
  {
   "cell_type": "code",
   "execution_count": 2,
   "metadata": {
    "colab": {
     "base_uri": "https://localhost:8080/",
     "height": 129
    },
    "executionInfo": {
     "elapsed": 857,
     "status": "error",
     "timestamp": 1602578051649,
     "user": {
      "displayName": "mikolaj korobczak",
      "photoUrl": "",
      "userId": "14636619086745626817"
     },
     "user_tz": -120
    },
    "id": "4d_CR5ySXbH7",
    "outputId": "c6e36083-ef2a-417f-ce19-e2bef54f83dd"
   },
   "outputs": [],
   "source": [
    "def Bleu(oryg, sample):\n",
    "    res = 0\n",
    "    all_bigrams = 0\n",
    "    l = sample.split(' ')\n",
    "    for i in range(len(l)-1):\n",
    "        bigram = ' ' + l[i] + ' ' + l[i+1] + ' '\n",
    "        all_bigrams += 1\n",
    "        if bigram in oryg:\n",
    "            res +=1\n",
    "    return res/all_bigrams"
   ]
  },
  {
   "cell_type": "code",
   "execution_count": 3,
   "metadata": {
    "executionInfo": {
     "elapsed": 1040,
     "status": "ok",
     "timestamp": 1602577879705,
     "user": {
      "displayName": "mikolaj korobczak",
      "photoUrl": "",
      "userId": "14636619086745626817"
     },
     "user_tz": -120
    },
    "id": "BA0_mrqPanOv"
   },
   "outputs": [],
   "source": [
    "file = open('odm.txt', 'r')\n",
    "korp = set()"
   ]
  },
  {
   "cell_type": "code",
   "execution_count": 4,
   "metadata": {
    "executionInfo": {
     "elapsed": 2271,
     "status": "ok",
     "timestamp": 1602577881075,
     "user": {
      "displayName": "mikolaj korobczak",
      "photoUrl": "",
      "userId": "14636619086745626817"
     },
     "user_tz": -120
    },
    "id": "Ba4bhAKhbIiN"
   },
   "outputs": [],
   "source": [
    "# i = 0\n",
    "\n",
    "for e in file:\n",
    "    if e[-1] == '\\n':\n",
    "        e = e[:-1]\n",
    "    for f in e.split(', '):\n",
    "        korp.add(f.lower())\n",
    "#     i += 1\n",
    "#     if i > 10000000:\n",
    "#         break\n",
    "\n",
    "file.close()"
   ]
  },
  {
   "cell_type": "code",
   "execution_count": 5,
   "metadata": {
    "colab": {
     "base_uri": "https://localhost:8080/",
     "height": 187
    },
    "executionInfo": {
     "elapsed": 892,
     "status": "ok",
     "timestamp": 1602577964509,
     "user": {
      "displayName": "mikolaj korobczak",
      "photoUrl": "",
      "userId": "14636619086745626817"
     },
     "user_tz": -120
    },
    "id": "2wzgAwOCbORB",
    "outputId": "88943935-4fef-494c-ff32-cc9d8bcb0a11"
   },
   "outputs": [
    {
     "name": "stdout",
     "output_type": "stream",
     "text": [
      "litwoojczyznomojatyjesteśjakzdrowieileciętrzebacenićtentylkosiędowiektocięstraciłdziśpięknośćtwąwcałejozdobiewidzęiopisujębotęskniępotobiepannoświętacojasnejbroniszczęstochowyiwostrejświeciszbramietycogródzamkowynowogródzkiochraniaszzjegowiernymludemjakmniedzieckodozdrowiapowróciłaścudemgdyodpłaczącejmatkipodtwojąopiekęofiarowanymartwąpodniosłempowiekęizarazmogłempieszodotwychświątyńproguiśćzawróconeżyciepodziękowaćbogutaknaspowróciszcudemnaojczyznyłonotymczasemprzenośmojąduszęutęsknionądotychpagórkówleśnychdotychłąkzielonychszerokonadbłękitnymniemnemrozciągnionychdotychpólmalowanychzbożemrozmaitemwyzłacanychpszenicąposrebrzanychżytemgdziebursztynowyświerzopgrykajakśniegbiałagdziepanieńskimrumieńcemdzięcielinapałaawszystkoprzepasanejakbywstęgąmiedzązielonąnaniejzrzadkacichegruszesiedzą\n"
     ]
    }
   ],
   "source": [
    "alfabet = 'filmujrzeźżądańpośćgnębchłystków'\n",
    "alfabets = 'filmujrzeźżądańpośćgnębchłystków '\n",
    "inwokacja = '''\n",
    "Litwo! Ojczyzno moja Ty! jesteś jak zdrowie,\n",
    "Ile cię trzeba cenić, ten tylko się dowie,\n",
    "Kto cię stracił. Dziś piękność twą w całej ozdobie\n",
    "Widzę i opisuję, bo tęsknię po tobie\n",
    "Panno święta, co Jasnej bronisz Częstochowy\n",
    "I w Ostrej świecisz Bramie Ty, co gród zamkowy\n",
    "Nowogródzki ochraniasz z jego wiernym ludem!\n",
    "Jak mnie dziecko do zdrowia powróciłaś cudem,\n",
    "Gdy od płaczącej matki pod Twoją opiekę\n",
    "Ofiarowany martwą podniosłem powiekę\n",
    "I zaraz mogłem pieszo do Twych świątyń progu\n",
    "Iść za wrócone życie podziękować Bogu,\n",
    "Tak nas powrócisz cudem na Ojczyzny łono.\n",
    "Tymczasem przenoś moją duszę utęsknioną\n",
    "Do tych pagórków leśnych, do tych łąk zielonych,\n",
    "Szeroko nad błękitnym Niemnem rozciągnionych;\n",
    "Do tych pól malowanych zbożem rozmaitem,\n",
    "Wyzłacanych pszenicą, posrebrzanych żytem;\n",
    "Gdzie bursztynowy świerzop, gryka jak śnieg biała,\n",
    "Gdzie panieńskim rumieńcem dzięcielina pała,\n",
    "A wszystko przepasane jakby wstęgą, miedzą\n",
    "Zieloną, na niej z rzadka ciche grusze siedzą.'''\n",
    "def erase_spaces(x, alph):\n",
    "    if x == '\\n':\n",
    "        x = ' '\n",
    "    if x in alph:\n",
    "        return x\n",
    "    else:\n",
    "        return ''\n",
    "oryginal = ''.join(list(map(lambda x: erase_spaces(x, alfabets), inwokacja.lower())))\n",
    "inwokacja = ''.join(list(map(lambda x: erase_spaces(x, alfabet), inwokacja.lower())))\n",
    "print(inwokacja)"
   ]
  },
  {
   "cell_type": "code",
   "execution_count": 6,
   "metadata": {
    "executionInfo": {
     "elapsed": 1006,
     "status": "ok",
     "timestamp": 1602577877350,
     "user": {
      "displayName": "mikolaj korobczak",
      "photoUrl": "",
      "userId": "14636619086745626817"
     },
     "user_tz": -120
    },
    "id": "k3XWCis6E3A1"
   },
   "outputs": [],
   "source": [
    "def MaxMatch(text, corpra):\n",
    "    lenght = max(len(x) for x in corpra)\n",
    "    i = 0\n",
    "    res = []\n",
    "    while i < len(text):\n",
    "        good = False\n",
    "        for j in range(lenght, 1 ,-1):\n",
    "            if text[i:j+i] in corpra:\n",
    "                res.append(text[i:i+j])\n",
    "                i = i + j\n",
    "                good = True\n",
    "                break\n",
    "        if  not good:\n",
    "            res.append(text[i])\n",
    "            i+=1\n",
    "    return ' '.join(res)"
   ]
  },
  {
   "cell_type": "code",
   "execution_count": 7,
   "metadata": {},
   "outputs": [
    {
     "name": "stdout",
     "output_type": "stream",
     "text": [
      "litwo ojczyznom oj aty jesteś jak zdrowie ile cię trzeba cenić tenty l kosi ę dowie kto cię stracił dziś piękność twą wc a ł ej ozdobie widzę io pisuję bot ę s kn i ę pot obie panno święta co jasnej bronisz częstochowy iwo st rej świecisz bramie tyc ogród zamkowy nowogródzki ochraniasz zje go wiernym ludem jak mnie dziecko doz drowi ap o wróciłaś cudem gdy odpłaczą ce jm atki pod twoją opiekę ofiarowanym ar twą podniosłem powiekę izara zmogłem pieszo do twych świątyń progu iść zawrócone życie podziękować boguta kna sp o wrócisz cudem na ojczyzny łono tymczasem przenoś moją duszę utęsknioną do tych pagórków leśnych do tych łąk zielonych szeroko nad błękitnym niemnem rozciąg ni onych do tych pól malowanych zbożem rozmaite mw y zła ca nyc hp sz en ic ą posrebrzanych żytem gdzie bursztynowy świerzop gryka jak śnieg biała gdzie panieńskim rumieńcem dzięcielina pała aws zys tk oprze pasanej ak by wstęgą miedzą zieloną na niej zr zadka ciche grusze siedzą\n"
     ]
    }
   ],
   "source": [
    "res = MaxMatch(inwokacja, korp)\n",
    "print(res)"
   ]
  },
  {
   "cell_type": "code",
   "execution_count": 8,
   "metadata": {
    "colab": {
     "base_uri": "https://localhost:8080/",
     "height": 34
    },
    "executionInfo": {
     "elapsed": 1118,
     "status": "ok",
     "timestamp": 1602577949333,
     "user": {
      "displayName": "mikolaj korobczak",
      "photoUrl": "",
      "userId": "14636619086745626817"
     },
     "user_tz": -120
    },
    "id": "jvtWPwe2FRjy",
    "outputId": "f7efa55a-8e9d-4cc8-fd5f-fa25a8e8273e",
    "scrolled": true
   },
   "outputs": [
    {
     "name": "stdout",
     "output_type": "stream",
     "text": [
      "0.463855421686747\n"
     ]
    }
   ],
   "source": [
    "print(Bleu(oryginal, res))"
   ]
  },
  {
   "cell_type": "code",
   "execution_count": 9,
   "metadata": {},
   "outputs": [],
   "source": [
    "def rMaxMatch(text, corpra):\n",
    "    lenght = max(len(x) for x in corpra)\n",
    "    i = len(text)\n",
    "    res = []\n",
    "    while i > 0:\n",
    "        good = False\n",
    "        for j in range(min(lenght, i), 0, -1):\n",
    "#             print(text[i-j:i])\n",
    "            if text[i-j:i] in corpra:\n",
    "                res = [text[i-j:i]] + res\n",
    "                i = i - j\n",
    "                good = True\n",
    "                break\n",
    "        if not i > 0:\n",
    "            break\n",
    "        if not good:\n",
    "            res = [text[i-1]] + res\n",
    "            i -= 1\n",
    "    return ' '.join(res)"
   ]
  },
  {
   "cell_type": "code",
   "execution_count": 10,
   "metadata": {},
   "outputs": [
    {
     "name": "stdout",
     "output_type": "stream",
     "text": [
      "litwo ojczyzn omo jaty jesteś jak zdrowi eile cię trzeba cenić ten tylko się dowie kto cię stracił dziś piękność twą w całej ozdobie widzę i opisuję bo tęsknię po tobie pan noś w i ę taco jasnej bronisz częstochowy iw ostrej świecisz bramie tyc ogród zamkowy nowogródzki och rani as zz jego wiernym ludem ja km ni edzi ec kodo zdrowia powróciłaś cudem gdy od płaczące jm atk ipod twoją opiekę ofiarowany martwą podniosłem powiekę izara zmogłem piesz odo twych świątyń pro g uiść zawrócone życie podziękować bogu tak nas powrócisz cudem na ojczyzny łono tymczasem przenoś moją duszę utęsknioną do tych pagórków leśnych do tych łąk zielonych szeroko nad błękitnym ni em ne mr oz ciągnionych do tych pól malowanych zboże mr ozma item wyzłacanych pszenicą posrebrzanych żytem gdzie bursztynowy świerzop gry kajak śnieg biała gdzie panieńskim rumieńcem dzięcielina pał aa wszystko przepasane jakby wstęgą miedzą zieloną na niej z rzadka ciche grusze siedzą\n"
     ]
    }
   ],
   "source": [
    "rres = rMaxMatch(inwokacja,korp)\n",
    "print(rres)"
   ]
  },
  {
   "cell_type": "code",
   "execution_count": 11,
   "metadata": {},
   "outputs": [
    {
     "name": "stdout",
     "output_type": "stream",
     "text": [
      "0.5806451612903226\n"
     ]
    }
   ],
   "source": [
    "print(Bleu(oryginal, rres))"
   ]
  },
  {
   "cell_type": "code",
   "execution_count": 12,
   "metadata": {},
   "outputs": [
    {
     "name": "stdout",
     "output_type": "stream",
     "text": [
      "True\n"
     ]
    }
   ],
   "source": [
    "print('litwo' in korp)"
   ]
  },
  {
   "cell_type": "code",
   "execution_count": 17,
   "metadata": {},
   "outputs": [
    {
     "name": "stdout",
     "output_type": "stream",
     "text": [
      "S y st em   E ur ora ty   C h ces z   kupować   więcej   niż   gdzie indziej   ? \n",
      "\n",
      "P ar lament   zdecydował   jednak   inaczej   i   przyjął   w   ustawie   z   dnia   2 8 . 0 6 . 1 9 9 6   r.   jednoinstancyjne   postępowanie   orzec znicz o - lekarskie   . \n",
      "\n",
      "P o   kampanii   wrześniowej   1 . D L e k   raportowała   7 7   czołgów   L . T . M . 3 5   utraconych   (   wraz   z   wozami   dowodzenia   )   i   5 2   uszkodzone   lub   zepsute   ,   lecz   ostatecznie   po   naprawach   straty   bezpowrotne   ograniczyły   się   do   7   czołgów   i   w   lutym   1 9 4 0   roku   posiadano   1 9 5   czołgów   na   stanie   . \n",
      "\n",
      "W   rolach   głównych   wystąpili   J ak e   G y l len ha al   ,   F orest   W hita ker   oraz   R ach el   M c A dam s   . \n",
      "\n",
      "Z api ec zon e   z   pomidorami   ,   bazylią   i   serem   . . . \n",
      "\n",
      "M oż e   ten   przypadek   odstraszy   innych   kłusowników   od   tego   procederu   . \n",
      "\n",
      "U lg i   i   przywileje   są   w   stosunkach   między   państwami   zwykle   wzajemne   ,   ambasador   ma   tu   niewielkie   pole   działania   . \n",
      "\n",
      "P oś ród   wzgórz   do   strony   południowej   do   państwa   wpływał   W ie rz bi ak   ,   który   znany   był   już   ze   złotonośnych   piasków   . \n",
      "\n",
      "T utaj   możecie   zobaczyć   ,   jak   wygląda   to   w   praktyce   ,   na   mapie   są   wyszczególnione   miejsca   objęte   programem   . \n",
      "\n",
      "A rt .   3 9   ust   .   1   ustawy   z   dnia   2 9   sierpnia   1 9 9 7 r   . \n",
      "\n",
      "P rz y kład owo   :   w   sferze   oświaty   działania   placówek   dyplomatyczno-konsularnych   obejmują   m.in.   pomoc   w   zakładaniu   punktów   nauczania   języka   polskiego   ,   fundowanie   nagród   dla   najlepszych   uczniów   i   nauczycieli   czy   współdziałanie   w   realizacji   przedsięwzięć   oświatowych   inicjowanych   przez   podmioty   krajowe   ,   jak   na przykład   udział   w   prowadzeniu   rekrutacji   studentów   polskiego   pochodzenia   ,   organizowanie   przyjazdów   nauczycieli   polonijnych   na   kursy   do   kraju   ,   przeprowadzanie   eliminacji   do   konkursów   i   olimpiad   języka   polskiego   . \n",
      "\n",
      "Z mienia   się   również   klimat   całej   planety   ,   ponieważ   lasy   tropikalne   są   ważnym   ogniwem   obiegu   wielu   pierwiastków   . \n",
      "\n",
      "W   ośmiu   z   szesnastu   opisanych   dotąd   chorób   spowodowanych   mutacjami   dynamicznymi   przyczyną   choroby   jest   ekspansja   kodonu   C A G   (   oznaczającego   aminokwas   glutaminę   )   w   sekwencji   kodującej   genu   . \n",
      "\n",
      "P oz wól   więc   sobie   oszczędzić   trochę   czasu   i   pieniędzy   dzięki   wykonaniu   lustracji   . \n",
      "\n",
      "P rzez   wiele   magazynów   (   m.in.   M eta l   H am mer   ,   H ea v y   M eta l   P ag es   )   został   uznany   największą   nadzieją   polskiego   melodyjnego   heavy metalu   . \n",
      "\n",
      "P anie   pośle   ,   czy   w sprawie   formalnej   ? \n",
      "\n",
      "J eś li   interesują   nas   takie   usługi   jak   szkolenia   kierowców   pojazdów   uprzywilejowanych   ,   to   warto   także   wziąć   pod   uwagę   to   ,   z   jakimi   kosztami   i   ofertami   mamy   do   czynienia   ,   a   na pewno   będziemy   mogli   cieszyć   się   najlepszymi   efektami   ,   a   to   jest   przecież   najważniejsze   . \n",
      "\n",
      "F irmę   tę   pozbawiono   również   gazu   ,   który   był   magazynowany   w   ukraińskich   P M G   i   zbywany   m.in.   do   P ols ki   . \n",
      "\n",
      "P or ów na nie   kogoś   w   P ols ce   do   H it le ra   jest   najbardziej   haniebną   kalumnią   ,   jaką   można   rzucić   . \n",
      "\n",
      "Z obowiązania   stanowiły   4 2 , 5   %   sumy   aktywów   trwałych   i   obrotowych   . \n",
      "\n",
      "T ak   samo   muszą   wzrastać   lokaty   bankowe   ,   ze   względu   na   wzrost   inflacji   z   których   B anki   . \n",
      "\n",
      "R oman   A nd rz ej ew ski   dowódca   7   kompanii   strzeleckiej   -   por.   J an   I   W ojciec ho wsk i   (   od   4   I X   )   dowódca   8   kompanii   strzeleckiej   -   ppor. \n",
      "\n",
      "W y stępuje   w   A mery ce   P o ł ud ni owej   ,   gdzie   odgrywa   ważną   rolę   ekologiczną   . \n",
      "\n",
      "W   kwaterze   głównej   marszałka   polnego   v on   W e ich sa   dowódcy   G rup y   A rm ii   B   coraz   bardziej   narastało   zwątpienie   . \n",
      "\n",
      "M ilf etki   ,   jak   cze sto   sie   mas turbo wa c   skutki   onanizmu   orgazm   walenie   seks   ,   trzepa c   darmowe   filmy   online   europejskie   dziewczyny   sposoby   masturbacji   ch lop ak o w   . \n",
      "\n",
      "T ak i   poziom   wskaźnika   spowodował   zmniejszenie   liczby   uczniów   przeliczeniowych   o   3 6 , 4 6 2 5   uczniów   ,   co   wpłynęło   na   zmniejszenie   kwoty   subwencji   o   1 0 0   9 9 4   zł   . \n",
      "\n",
      "D io ni zjusz   z   H ali karnas u   w   U wagach   o   starożytnych   oratorach   wymienia   8 7   mów   przypisywanych   D ej nar ch oso w i   ,   z   tego   6 0   uznaje   za   autentyczne   . \n",
      "\n",
      "M in is ter st w o   nie   zmniejszyło   per saldo   finansowania   szkolnictwa   zawodowego   jedynie   doprecyzowało   finansowanie   zgodnie   z   istniejącym   stanem   faktycznym   . \n",
      "\n",
      "W y różni a   się   w   niej   typowe   dla   gór   piętra   :   regiel   ,   piętro   kosodrzewiny   i   piętro   halne   . \n",
      "\n",
      "B rak   wpłaty   zadatku   wiąże   się   z   anulowaniem   wstępnej   rezerwacji   bez   potwierdzenia   . \n",
      "\n",
      "O tóż   nawet   gdyby   projekt   poselski   nie   miał   żadnych   walorów   merytorycznych   ,   to   i   tak   ,   uważam   ,   ma   bardzo   cenną   zaletę   . \n",
      "\n",
      "W aż ne   jest   nie   to   ,   że   produkt   nazywa   się   sok   ,   ale   co   jest   napisane   na   jego   opakowaniu   . \n",
      "\n",
      "W ita m   w   dzisiejszym   odcinku   pokaże   wam   śnieżkę   która   potrafi   stawiać   pajęczyny   oraz   pająka   który   zostawia   za   sobą   mnóstwo   pajęczyn   ! \n",
      "\n",
      "C ie kaw e   czy   bedzie   bez pos red ni   przeszczep   z   A S X - a   czy   mo ze   cos   nowego   ? \n",
      "\n",
      "S kutki   finansowe   dla   budżetu   państwa   wynikające   z   wprowadzenia   tej   nowelizacji   można   podzielić   niejako   na   dwie   grupy   :   bezpośrednie   i   pośrednie   . \n",
      "\n",
      "W   roku   2 0 0 4   zdał   egzamin   na   licencję   zawodnika   w   Z K Ż   Z ie lon a   G ó ra   ,   gdzie   startował   do   końca   sezonu   2 0 0 5   . \n",
      "\n",
      "P ona dt o   zgodnie   z   art.   3 3   ust   .   1 a   tej   ustawy   uśmiercanie   zwierząt   może   odbywać   się   wyłącznie   w   sposób   humanitarny   polegający   na   zadawaniu   przy   tym   minimum   cierpienia   fizycznego   i   psychicznego   . \n",
      "\n",
      "U   R z y mian   podobnie   ph ale ra e   wkrótce   stały   się   rodzajem   odznaczenia   za   męstwo   przyznawanego   konkretnym   żołnierzom   lub   całym   jednostkom   . \n",
      "\n",
      "G mina   została   zniesiona   2 9   września   1 9 5 4   wraz   z   reformą   wprowadzającą   gromady   w   miejsce   gmin   . \n",
      "\n",
      "P odkreślam   to   ,   ponieważ   pan   poseł   pytał   o   finansowanie   . \n",
      "\n",
      "W   maju   2 0 0 7   r.   ,   wymieniona   szczepionka   P rzec iw   W Z W   T y p   B   -   E uva x   B   została   wstrzymana   w   obrocie   na   terytorium   R ze czy pospolitej   P ols kie j   decyzją   głównego   inspektora   farmaceutycznego   na   wniosek   prezesa   U rzędu   R ej est racji   P rodu kt ów   L ec zniczy ch   ,   W y rob ów   M edy cz nyc h   i   P rodu kt ów   B io bój czy ch   w   związku   ze   zgłoszeniami   niepożądanych   odczynów   poszczepiennych   związanych   z   podaniem   przedmiotowej   szczepionki   . \n",
      "\n",
      "Z acz ą ł em   zdawać   żywioły   ,   moim   pierwszym   prawdziwym   K ump lem   na   forum   (   jak   i   mistrzem   )   był   H ip e k   z   nim   to   zdawałem   kolejne   poziomy   K atona   . . \n",
      "\n",
      "W   akceleratorach   liniowych   redukowane   są   straty   energii   związane   z   zakrzywieniem   toru   cząstek   naładowanych   ,   występujące   w   akceleratorach   kołowych   . \n",
      "\n",
      "N ie   zostałeś   poddany   żadnej   próbie   ,   więc   proszę   o   odrobinę   pokory   wobec   historii   i   jej   bohaterów   . \n",
      "\n",
      "J est   pytanie   ,   czy   mamy   zastąpić   obecny   podatek   od   nieruchomości   inną   formą   tego   podatku   ,   podatkiem   od   wartości   nieruchomości   . \n",
      "\n"
     ]
    },
    {
     "ename": "KeyboardInterrupt",
     "evalue": "",
     "output_type": "error",
     "traceback": [
      "\u001b[0;31m---------------------------------------------------------------------------\u001b[0m",
      "\u001b[0;31mKeyboardInterrupt\u001b[0m                         Traceback (most recent call last)",
      "\u001b[0;32m<ipython-input-17-d2002c83e54a>\u001b[0m in \u001b[0;36m<module>\u001b[0;34m\u001b[0m\n\u001b[1;32m      4\u001b[0m \u001b[0;32mfor\u001b[0m \u001b[0me\u001b[0m \u001b[0;32min\u001b[0m \u001b[0mfile\u001b[0m\u001b[0;34m:\u001b[0m\u001b[0;34m\u001b[0m\u001b[0;34m\u001b[0m\u001b[0m\n\u001b[1;32m      5\u001b[0m     \u001b[0merase_spaces\u001b[0m\u001b[0;34m(\u001b[0m\u001b[0me\u001b[0m\u001b[0;34m,\u001b[0m \u001b[0malfabet\u001b[0m\u001b[0;34m)\u001b[0m\u001b[0;34m\u001b[0m\u001b[0;34m\u001b[0m\u001b[0m\n\u001b[0;32m----> 6\u001b[0;31m     \u001b[0mprint\u001b[0m\u001b[0;34m(\u001b[0m\u001b[0mMaxMatch\u001b[0m\u001b[0;34m(\u001b[0m\u001b[0me\u001b[0m\u001b[0;34m,\u001b[0m \u001b[0mkorp\u001b[0m\u001b[0;34m)\u001b[0m\u001b[0;34m)\u001b[0m\u001b[0;34m\u001b[0m\u001b[0;34m\u001b[0m\u001b[0m\n\u001b[0m\u001b[1;32m      7\u001b[0m     \u001b[0mi\u001b[0m \u001b[0;34m+=\u001b[0m \u001b[0;36m1\u001b[0m\u001b[0;34m\u001b[0m\u001b[0;34m\u001b[0m\u001b[0m\n\u001b[1;32m      8\u001b[0m     \u001b[0;32mif\u001b[0m \u001b[0mi\u001b[0m \u001b[0;34m>\u001b[0m \u001b[0;36m100\u001b[0m\u001b[0;34m:\u001b[0m\u001b[0;34m\u001b[0m\u001b[0;34m\u001b[0m\u001b[0m\n",
      "\u001b[0;32m<ipython-input-6-5a7cf5bc27f7>\u001b[0m in \u001b[0;36mMaxMatch\u001b[0;34m(text, corpra)\u001b[0m\n\u001b[1;32m      1\u001b[0m \u001b[0;32mdef\u001b[0m \u001b[0mMaxMatch\u001b[0m\u001b[0;34m(\u001b[0m\u001b[0mtext\u001b[0m\u001b[0;34m,\u001b[0m \u001b[0mcorpra\u001b[0m\u001b[0;34m)\u001b[0m\u001b[0;34m:\u001b[0m\u001b[0;34m\u001b[0m\u001b[0;34m\u001b[0m\u001b[0m\n\u001b[0;32m----> 2\u001b[0;31m     \u001b[0mlenght\u001b[0m \u001b[0;34m=\u001b[0m \u001b[0mmax\u001b[0m\u001b[0;34m(\u001b[0m\u001b[0mlen\u001b[0m\u001b[0;34m(\u001b[0m\u001b[0mx\u001b[0m\u001b[0;34m)\u001b[0m \u001b[0;32mfor\u001b[0m \u001b[0mx\u001b[0m \u001b[0;32min\u001b[0m \u001b[0mcorpra\u001b[0m\u001b[0;34m)\u001b[0m\u001b[0;34m\u001b[0m\u001b[0;34m\u001b[0m\u001b[0m\n\u001b[0m\u001b[1;32m      3\u001b[0m     \u001b[0mi\u001b[0m \u001b[0;34m=\u001b[0m \u001b[0;36m0\u001b[0m\u001b[0;34m\u001b[0m\u001b[0;34m\u001b[0m\u001b[0m\n\u001b[1;32m      4\u001b[0m     \u001b[0mres\u001b[0m \u001b[0;34m=\u001b[0m \u001b[0;34m[\u001b[0m\u001b[0;34m]\u001b[0m\u001b[0;34m\u001b[0m\u001b[0;34m\u001b[0m\u001b[0m\n\u001b[1;32m      5\u001b[0m     \u001b[0;32mwhile\u001b[0m \u001b[0mi\u001b[0m \u001b[0;34m<\u001b[0m \u001b[0mlen\u001b[0m\u001b[0;34m(\u001b[0m\u001b[0mtext\u001b[0m\u001b[0;34m)\u001b[0m\u001b[0;34m:\u001b[0m\u001b[0;34m\u001b[0m\u001b[0;34m\u001b[0m\u001b[0m\n",
      "\u001b[0;32m<ipython-input-6-5a7cf5bc27f7>\u001b[0m in \u001b[0;36m<genexpr>\u001b[0;34m(.0)\u001b[0m\n\u001b[1;32m      1\u001b[0m \u001b[0;32mdef\u001b[0m \u001b[0mMaxMatch\u001b[0m\u001b[0;34m(\u001b[0m\u001b[0mtext\u001b[0m\u001b[0;34m,\u001b[0m \u001b[0mcorpra\u001b[0m\u001b[0;34m)\u001b[0m\u001b[0;34m:\u001b[0m\u001b[0;34m\u001b[0m\u001b[0;34m\u001b[0m\u001b[0m\n\u001b[0;32m----> 2\u001b[0;31m     \u001b[0mlenght\u001b[0m \u001b[0;34m=\u001b[0m \u001b[0mmax\u001b[0m\u001b[0;34m(\u001b[0m\u001b[0mlen\u001b[0m\u001b[0;34m(\u001b[0m\u001b[0mx\u001b[0m\u001b[0;34m)\u001b[0m \u001b[0;32mfor\u001b[0m \u001b[0mx\u001b[0m \u001b[0;32min\u001b[0m \u001b[0mcorpra\u001b[0m\u001b[0;34m)\u001b[0m\u001b[0;34m\u001b[0m\u001b[0;34m\u001b[0m\u001b[0m\n\u001b[0m\u001b[1;32m      3\u001b[0m     \u001b[0mi\u001b[0m \u001b[0;34m=\u001b[0m \u001b[0;36m0\u001b[0m\u001b[0;34m\u001b[0m\u001b[0;34m\u001b[0m\u001b[0m\n\u001b[1;32m      4\u001b[0m     \u001b[0mres\u001b[0m \u001b[0;34m=\u001b[0m \u001b[0;34m[\u001b[0m\u001b[0;34m]\u001b[0m\u001b[0;34m\u001b[0m\u001b[0;34m\u001b[0m\u001b[0m\n\u001b[1;32m      5\u001b[0m     \u001b[0;32mwhile\u001b[0m \u001b[0mi\u001b[0m \u001b[0;34m<\u001b[0m \u001b[0mlen\u001b[0m\u001b[0;34m(\u001b[0m\u001b[0mtext\u001b[0m\u001b[0;34m)\u001b[0m\u001b[0;34m:\u001b[0m\u001b[0;34m\u001b[0m\u001b[0;34m\u001b[0m\u001b[0m\n",
      "\u001b[0;31mKeyboardInterrupt\u001b[0m: "
     ]
    }
   ],
   "source": [
    "file = open('polish_corpora.txt', 'r')\n",
    "i = 0\n",
    "crp = set()\n",
    "for e in file:\n",
    "    erase_spaces(e, alfabet)\n",
    "    print(MaxMatch(e, korp))\n",
    "    i += 1\n",
    "    if i > 100:\n",
    "        break\n",
    "\n",
    "file.close()"
   ]
  },
  {
   "cell_type": "code",
   "execution_count": null,
   "metadata": {},
   "outputs": [],
   "source": []
  }
 ],
 "metadata": {
  "colab": {
   "authorship_tag": "ABX9TyPBdAr0PJBEaxYbZ97DtytO",
   "mount_file_id": "1qRcc3qBqnzH_cI3rpNphEAegTkQOuTsJ",
   "name": "nlp_lista1.ipynb",
   "provenance": []
  },
  "kernelspec": {
   "display_name": "Python 3",
   "language": "python",
   "name": "python3"
  },
  "language_info": {
   "codemirror_mode": {
    "name": "ipython",
    "version": 3
   },
   "file_extension": ".py",
   "mimetype": "text/x-python",
   "name": "python",
   "nbconvert_exporter": "python",
   "pygments_lexer": "ipython3",
   "version": "3.8.6"
  }
 },
 "nbformat": 4,
 "nbformat_minor": 1
}
