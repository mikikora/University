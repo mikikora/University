{
 "cells": [
  {
   "cell_type": "code",
   "execution_count": 1,
   "metadata": {},
   "outputs": [],
   "source": [
    "# import tqdm import tqdm"
   ]
  },
  {
   "cell_type": "code",
   "execution_count": 2,
   "metadata": {
    "colab": {
     "base_uri": "https://localhost:8080/",
     "height": 129
    },
    "executionInfo": {
     "elapsed": 857,
     "status": "error",
     "timestamp": 1602578051649,
     "user": {
      "displayName": "mikolaj korobczak",
      "photoUrl": "",
      "userId": "14636619086745626817"
     },
     "user_tz": -120
    },
    "id": "4d_CR5ySXbH7",
    "outputId": "c6e36083-ef2a-417f-ce19-e2bef54f83dd"
   },
   "outputs": [],
   "source": [
    "def Bleu(oryg, sample):\n",
    "    res = 0\n",
    "    all_bigrams = 0\n",
    "    l = sample.split(' ')\n",
    "    for i in range(len(l)-1):\n",
    "        bigram = ' ' + l[i] + ' ' + l[i+1] + ' '\n",
    "        all_bigrams += 1\n",
    "        if bigram in oryg:\n",
    "            res +=1\n",
    "    return res/all_bigrams"
   ]
  },
  {
   "cell_type": "code",
   "execution_count": 3,
   "metadata": {
    "executionInfo": {
     "elapsed": 1040,
     "status": "ok",
     "timestamp": 1602577879705,
     "user": {
      "displayName": "mikolaj korobczak",
      "photoUrl": "",
      "userId": "14636619086745626817"
     },
     "user_tz": -120
    },
    "id": "BA0_mrqPanOv"
   },
   "outputs": [],
   "source": [
    "file = open('odm.txt', 'r')\n",
    "korp = set()"
   ]
  },
  {
   "cell_type": "code",
   "execution_count": 4,
   "metadata": {
    "executionInfo": {
     "elapsed": 2271,
     "status": "ok",
     "timestamp": 1602577881075,
     "user": {
      "displayName": "mikolaj korobczak",
      "photoUrl": "",
      "userId": "14636619086745626817"
     },
     "user_tz": -120
    },
    "id": "Ba4bhAKhbIiN"
   },
   "outputs": [],
   "source": [
    "# i = 0\n",
    "\n",
    "for e in file:\n",
    "    if e[-1] == '\\n':\n",
    "        e = e[:-1]\n",
    "    for f in e.split(', '):\n",
    "        korp.add(f.lower())\n",
    "#     i += 1\n",
    "#     if i > 10000000:\n",
    "#         break\n",
    "\n",
    "file.close()"
   ]
  },
  {
   "cell_type": "code",
   "execution_count": 5,
   "metadata": {
    "colab": {
     "base_uri": "https://localhost:8080/",
     "height": 187
    },
    "executionInfo": {
     "elapsed": 892,
     "status": "ok",
     "timestamp": 1602577964509,
     "user": {
      "displayName": "mikolaj korobczak",
      "photoUrl": "",
      "userId": "14636619086745626817"
     },
     "user_tz": -120
    },
    "id": "2wzgAwOCbORB",
    "outputId": "88943935-4fef-494c-ff32-cc9d8bcb0a11"
   },
   "outputs": [
    {
     "name": "stdout",
     "output_type": "stream",
     "text": [
      "litwoojczyznomojatyjesteśjakzdrowieileciętrzebacenićtentylkosiędowiektocięstraciłdziśpięknośćtwąwcałejozdobiewidzęiopisujębotęskniępotobiepannoświętacojasnejbroniszczęstochowyiwostrejświeciszbramietycogródzamkowynowogródzkiochraniaszzjegowiernymludemjakmniedzieckodozdrowiapowróciłaścudemgdyodpłaczącejmatkipodtwojąopiekęofiarowanymartwąpodniosłempowiekęizarazmogłempieszodotwychświątyńproguiśćzawróconeżyciepodziękowaćbogutaknaspowróciszcudemnaojczyznyłonotymczasemprzenośmojąduszęutęsknionądotychpagórkówleśnychdotychłąkzielonychszerokonadbłękitnymniemnemrozciągnionychdotychpólmalowanychzbożemrozmaitemwyzłacanychpszenicąposrebrzanychżytemgdziebursztynowyświerzopgrykajakśniegbiałagdziepanieńskimrumieńcemdzięcielinapałaawszystkoprzepasanejakbywstęgąmiedzązielonąnaniejzrzadkacichegruszesiedzą\n"
     ]
    }
   ],
   "source": [
    "alfabet = 'filmujrzeźżądańpośćgnębchłystków'\n",
    "alfabets = 'filmujrzeźżądańpośćgnębchłystków '\n",
    "inwokacja = '''\n",
    "Litwo! Ojczyzno moja Ty! jesteś jak zdrowie,\n",
    "Ile cię trzeba cenić, ten tylko się dowie,\n",
    "Kto cię stracił. Dziś piękność twą w całej ozdobie\n",
    "Widzę i opisuję, bo tęsknię po tobie\n",
    "Panno święta, co Jasnej bronisz Częstochowy\n",
    "I w Ostrej świecisz Bramie Ty, co gród zamkowy\n",
    "Nowogródzki ochraniasz z jego wiernym ludem!\n",
    "Jak mnie dziecko do zdrowia powróciłaś cudem,\n",
    "Gdy od płaczącej matki pod Twoją opiekę\n",
    "Ofiarowany martwą podniosłem powiekę\n",
    "I zaraz mogłem pieszo do Twych świątyń progu\n",
    "Iść za wrócone życie podziękować Bogu,\n",
    "Tak nas powrócisz cudem na Ojczyzny łono.\n",
    "Tymczasem przenoś moją duszę utęsknioną\n",
    "Do tych pagórków leśnych, do tych łąk zielonych,\n",
    "Szeroko nad błękitnym Niemnem rozciągnionych;\n",
    "Do tych pól malowanych zbożem rozmaitem,\n",
    "Wyzłacanych pszenicą, posrebrzanych żytem;\n",
    "Gdzie bursztynowy świerzop, gryka jak śnieg biała,\n",
    "Gdzie panieńskim rumieńcem dzięcielina pała,\n",
    "A wszystko przepasane jakby wstęgą, miedzą\n",
    "Zieloną, na niej z rzadka ciche grusze siedzą.'''\n",
    "def erase_spaces(x, alph):\n",
    "    if x == '\\n':\n",
    "        x = ' '\n",
    "    if x in alph:\n",
    "        return x\n",
    "    else:\n",
    "        return ''\n",
    "oryginal = ''.join(list(map(lambda x: erase_spaces(x, alfabets), inwokacja.lower())))\n",
    "inwokacja = ''.join(list(map(lambda x: erase_spaces(x, alfabet), inwokacja.lower())))\n",
    "print(inwokacja)"
   ]
  },
  {
   "cell_type": "code",
   "execution_count": 6,
   "metadata": {
    "executionInfo": {
     "elapsed": 1006,
     "status": "ok",
     "timestamp": 1602577877350,
     "user": {
      "displayName": "mikolaj korobczak",
      "photoUrl": "",
      "userId": "14636619086745626817"
     },
     "user_tz": -120
    },
    "id": "k3XWCis6E3A1"
   },
   "outputs": [],
   "source": [
    "def MaxMatch(text, corpra):\n",
    "    lenght = max(len(x) for x in corpra)\n",
    "    i = 0\n",
    "    res = []\n",
    "    while i < len(text):\n",
    "        good = False\n",
    "        for j in range(lenght, 1 ,-1):\n",
    "            if text[i:j+i] in corpra:\n",
    "                res.append(text[i:i+j])\n",
    "                i = i + j\n",
    "                good = True\n",
    "                break\n",
    "        if  not good:\n",
    "            res.append(text[i])\n",
    "            i+=1\n",
    "    return ' '.join(res)"
   ]
  },
  {
   "cell_type": "code",
   "execution_count": 7,
   "metadata": {},
   "outputs": [
    {
     "name": "stdout",
     "output_type": "stream",
     "text": [
      "litwo ojczyznom oj aty jesteś jak zdrowie ile cię trzeba cenić tenty l kosi ę dowie kto cię stracił dziś piękność twą wc a ł ej ozdobie widzę io pisuję bot ę s kn i ę pot obie panno święta co jasnej bronisz częstochowy iwo st rej świecisz bramie tyc ogród zamkowy nowogródzki ochraniasz zje go wiernym ludem jak mnie dziecko doz drowi ap o wróciłaś cudem gdy odpłaczą ce jm atki pod twoją opiekę ofiarowanym ar twą podniosłem powiekę izara zmogłem pieszo do twych świątyń progu iść zawrócone życie podziękować boguta kna sp o wrócisz cudem na ojczyzny łono tymczasem przenoś moją duszę utęsknioną do tych pagórków leśnych do tych łąk zielonych szeroko nad błękitnym niemnem rozciąg ni onych do tych pól malowanych zbożem rozmaite mw y zła ca nyc hp sz en ic ą posrebrzanych żytem gdzie bursztynowy świerzop gryka jak śnieg biała gdzie panieńskim rumieńcem dzięcielina pała aws zys tk oprze pasanej ak by wstęgą miedzą zieloną na niej zr zadka ciche grusze siedzą\n"
     ]
    }
   ],
   "source": [
    "res = MaxMatch(inwokacja, korp)\n",
    "print(res)"
   ]
  },
  {
   "cell_type": "code",
   "execution_count": 8,
   "metadata": {
    "colab": {
     "base_uri": "https://localhost:8080/",
     "height": 34
    },
    "executionInfo": {
     "elapsed": 1118,
     "status": "ok",
     "timestamp": 1602577949333,
     "user": {
      "displayName": "mikolaj korobczak",
      "photoUrl": "",
      "userId": "14636619086745626817"
     },
     "user_tz": -120
    },
    "id": "jvtWPwe2FRjy",
    "outputId": "f7efa55a-8e9d-4cc8-fd5f-fa25a8e8273e",
    "scrolled": true
   },
   "outputs": [
    {
     "name": "stdout",
     "output_type": "stream",
     "text": [
      "0.463855421686747\n"
     ]
    }
   ],
   "source": [
    "print(Bleu(oryginal, res))"
   ]
  },
  {
   "cell_type": "code",
   "execution_count": 9,
   "metadata": {},
   "outputs": [],
   "source": [
    "def rMaxMatch(text, corpra):\n",
    "    lenght = max(len(x) for x in corpra)\n",
    "    i = len(text)\n",
    "    res = []\n",
    "    while i > 0:\n",
    "        good = False\n",
    "        for j in range(min(lenght, i), 0, -1):\n",
    "#             print(text[i-j:i])\n",
    "            if text[i-j:i] in corpra:\n",
    "                res = [text[i-j:i]] + res\n",
    "                i = i - j\n",
    "                good = True\n",
    "                break\n",
    "        if not i > 0:\n",
    "            break\n",
    "        if not good:\n",
    "            res = [text[i-1]] + res\n",
    "            i -= 1\n",
    "    return ' '.join(res)"
   ]
  },
  {
   "cell_type": "code",
   "execution_count": 10,
   "metadata": {},
   "outputs": [
    {
     "name": "stdout",
     "output_type": "stream",
     "text": [
      "litwo ojczyzn omo jaty jesteś jak zdrowi eile cię trzeba cenić ten tylko się dowie kto cię stracił dziś piękność twą w całej ozdobie widzę i opisuję bo tęsknię po tobie pan noś w i ę taco jasnej bronisz częstochowy iw ostrej świecisz bramie tyc ogród zamkowy nowogródzki och rani as zz jego wiernym ludem ja km ni edzi ec kodo zdrowia powróciłaś cudem gdy od płaczące jm atk ipod twoją opiekę ofiarowany martwą podniosłem powiekę izara zmogłem piesz odo twych świątyń pro g uiść zawrócone życie podziękować bogu tak nas powrócisz cudem na ojczyzny łono tymczasem przenoś moją duszę utęsknioną do tych pagórków leśnych do tych łąk zielonych szeroko nad błękitnym ni em ne mr oz ciągnionych do tych pól malowanych zboże mr ozma item wyzłacanych pszenicą posrebrzanych żytem gdzie bursztynowy świerzop gry kajak śnieg biała gdzie panieńskim rumieńcem dzięcielina pał aa wszystko przepasane jakby wstęgą miedzą zieloną na niej z rzadka ciche grusze siedzą\n"
     ]
    }
   ],
   "source": [
    "rres = rMaxMatch(inwokacja,korp)\n",
    "print(rres)"
   ]
  },
  {
   "cell_type": "code",
   "execution_count": 11,
   "metadata": {},
   "outputs": [
    {
     "name": "stdout",
     "output_type": "stream",
     "text": [
      "0.5806451612903226\n"
     ]
    }
   ],
   "source": [
    "print(Bleu(oryginal, rres))"
   ]
  },
  {
   "cell_type": "code",
   "execution_count": 12,
   "metadata": {},
   "outputs": [
    {
     "name": "stdout",
     "output_type": "stream",
     "text": [
      "True\n"
     ]
    }
   ],
   "source": [
    "print('litwo' in korp)"
   ]
  },
  {
   "cell_type": "code",
   "execution_count": null,
   "metadata": {},
   "outputs": [],
   "source": []
  }
 ],
 "metadata": {
  "colab": {
   "authorship_tag": "ABX9TyPBdAr0PJBEaxYbZ97DtytO",
   "mount_file_id": "1qRcc3qBqnzH_cI3rpNphEAegTkQOuTsJ",
   "name": "nlp_lista1.ipynb",
   "provenance": []
  },
  "kernelspec": {
   "display_name": "Python 3",
   "language": "python",
   "name": "python3"
  },
  "language_info": {
   "codemirror_mode": {
    "name": "ipython",
    "version": 3
   },
   "file_extension": ".py",
   "mimetype": "text/x-python",
   "name": "python",
   "nbconvert_exporter": "python",
   "pygments_lexer": "ipython3",
   "version": "3.8.5"
  }
 },
 "nbformat": 4,
 "nbformat_minor": 1
}
