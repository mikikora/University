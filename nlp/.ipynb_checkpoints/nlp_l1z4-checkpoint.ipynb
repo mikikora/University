{
 "cells": [
  {
   "cell_type": "code",
   "execution_count": 1,
   "metadata": {},
   "outputs": [],
   "source": [
    "from collections import defaultdict as dd\n",
    "from itertools import permutations as perm"
   ]
  },
  {
   "cell_type": "code",
   "execution_count": 2,
   "metadata": {},
   "outputs": [],
   "source": [
    "s1 = 'Judyta dała wczoraj Stefanowi czekoladki'.lower().split(' ')\n",
    "s2 = 'Babuleńka miała dwa rogate koziołki'.lower().split(' ')\n",
    "s3 = 'Wczoraj wieczorem spotkałem pewną piękną kobietę'.lower().split(' ')"
   ]
  },
  {
   "cell_type": "code",
   "execution_count": 3,
   "metadata": {},
   "outputs": [],
   "source": [
    "def get_2grams(s):\n",
    "    file = open('poleval_2grams.txt', 'r')\n",
    "    pol_dict2 = dd(list)\n",
    "    words = set(s)\n",
    "    for e in file:\n",
    "        if e[-1] == '\\n':\n",
    "            e = e[:-1]\n",
    "        l, first, second = e.split(' ')\n",
    "        if first in words or second in words:\n",
    "            pol_dict2[first].append((int(l), second))\n",
    "    file.close()\n",
    "    return pol_dict2"
   ]
  },
  {
   "cell_type": "code",
   "execution_count": 4,
   "metadata": {},
   "outputs": [],
   "source": [
    "def get_3grams(s):\n",
    "    file = open('poleval_3grams.txt', 'r')\n",
    "    pol_dict3 = dd(list)\n",
    "    words = set(s)\n",
    "    for e in file:\n",
    "        if e[-1] == '\\n':\n",
    "            e = e[:-1]\n",
    "        pom = e.split(' ')\n",
    "        if len(pom) < 4:\n",
    "            continue\n",
    "        l, first, second, third = pom\n",
    "        if first in words or second in words or third in words:\n",
    "            pol_dict3[(first, second)].append((int(l), third))\n",
    "    file.close()\n",
    "    return pol_dict3"
   ]
  },
  {
   "cell_type": "code",
   "execution_count": 5,
   "metadata": {},
   "outputs": [],
   "source": [
    "def natural_count(s, pol_dict2, pol_dict3):\n",
    "    suma = 0\n",
    "    for i in range(len(s)-1):\n",
    "#         print(s[i], s[i+1])\n",
    "#         print(pol_dict2[s[i]])\n",
    "        if len(pol_dict2[s[i]]) != 0 and any(x[1] == s[i+1] for x in pol_dict2[s[i]]):\n",
    "            for x in pol_dict2[s[i]]:\n",
    "                if x[1] == s[i+1]:\n",
    "                    suma += x[0]\n",
    "                    break\n",
    "    for i in range(len(s)-2):\n",
    "        if len(pol_dict3[(s[i], s[i+1])]) != 0 and any(x[1] == s[i+2] for x in pol_dict3[(s[i], s[i+1])]):\n",
    "            for x in pol_dict3[(s[i], s[i+1])]:\n",
    "                if x[1] == s[i+2]:\n",
    "                    suma += x[0]\n",
    "                    break\n",
    "    return suma"
   ]
  },
  {
   "cell_type": "code",
   "execution_count": 6,
   "metadata": {},
   "outputs": [],
   "source": [
    "def create_res(s):\n",
    "    pol_dict2 = get_2grams(s)\n",
    "    pol_dict3 = get_3grams(s)\n",
    "    res = list()\n",
    "    for e in perm(s, len(s)):\n",
    "        res.append((natural_count(e, pol_dict2, pol_dict3), e))\n",
    "\n",
    "    res.sort(reverse=True, key=lambda x: x[0])\n",
    "    i = 0\n",
    "    for e in res:\n",
    "        print(e)\n",
    "        i += 1\n",
    "        if i >= 10:\n",
    "            break"
   ]
  },
  {
   "cell_type": "code",
   "execution_count": 7,
   "metadata": {},
   "outputs": [
    {
     "name": "stdout",
     "output_type": "stream",
     "text": [
      "(2, ('judyta', 'dała', 'wczoraj', 'stefanowi', 'czekoladki'))\n",
      "(2, ('judyta', 'dała', 'wczoraj', 'czekoladki', 'stefanowi'))\n",
      "(2, ('judyta', 'stefanowi', 'dała', 'wczoraj', 'czekoladki'))\n",
      "(2, ('judyta', 'stefanowi', 'czekoladki', 'dała', 'wczoraj'))\n",
      "(2, ('judyta', 'czekoladki', 'dała', 'wczoraj', 'stefanowi'))\n",
      "(2, ('judyta', 'czekoladki', 'stefanowi', 'dała', 'wczoraj'))\n",
      "(2, ('dała', 'wczoraj', 'judyta', 'stefanowi', 'czekoladki'))\n",
      "(2, ('dała', 'wczoraj', 'judyta', 'czekoladki', 'stefanowi'))\n",
      "(2, ('dała', 'wczoraj', 'stefanowi', 'judyta', 'czekoladki'))\n",
      "(2, ('dała', 'wczoraj', 'stefanowi', 'czekoladki', 'judyta'))\n",
      "(184, ('babuleńka', 'miała', 'dwa', 'koziołki', 'rogate'))\n",
      "(184, ('babuleńka', 'rogate', 'miała', 'dwa', 'koziołki'))\n",
      "(184, ('miała', 'dwa', 'koziołki', 'babuleńka', 'rogate'))\n",
      "(184, ('miała', 'dwa', 'koziołki', 'rogate', 'babuleńka'))\n",
      "(184, ('rogate', 'babuleńka', 'miała', 'dwa', 'koziołki'))\n",
      "(184, ('rogate', 'miała', 'dwa', 'koziołki', 'babuleńka'))\n",
      "(183, ('babuleńka', 'miała', 'dwa', 'rogate', 'koziołki'))\n",
      "(183, ('babuleńka', 'koziołki', 'miała', 'dwa', 'rogate'))\n",
      "(183, ('miała', 'dwa', 'rogate', 'babuleńka', 'koziołki'))\n",
      "(183, ('miała', 'dwa', 'rogate', 'koziołki', 'babuleńka'))\n",
      "(455, ('spotkałem', 'wczoraj', 'wieczorem', 'pewną', 'piękną', 'kobietę'))\n",
      "(455, ('pewną', 'piękną', 'kobietę', 'spotkałem', 'wczoraj', 'wieczorem'))\n",
      "(454, ('wczoraj', 'wieczorem', 'spotkałem', 'pewną', 'piękną', 'kobietę'))\n",
      "(454, ('spotkałem', 'pewną', 'piękną', 'kobietę', 'wczoraj', 'wieczorem'))\n",
      "(453, ('wczoraj', 'wieczorem', 'pewną', 'piękną', 'kobietę', 'spotkałem'))\n",
      "(453, ('pewną', 'piękną', 'kobietę', 'wczoraj', 'wieczorem', 'spotkałem'))\n",
      "(449, ('wczoraj', 'wieczorem', 'spotkałem', 'piękną', 'kobietę', 'pewną'))\n",
      "(449, ('wczoraj', 'wieczorem', 'pewną', 'spotkałem', 'piękną', 'kobietę'))\n",
      "(449, ('spotkałem', 'wczoraj', 'wieczorem', 'piękną', 'kobietę', 'pewną'))\n",
      "(449, ('spotkałem', 'piękną', 'kobietę', 'wczoraj', 'wieczorem', 'pewną'))\n"
     ]
    }
   ],
   "source": [
    "create_res(s1)\n",
    "create_res(s2)\n",
    "create_res(s3)"
   ]
  },
  {
   "cell_type": "code",
   "execution_count": null,
   "metadata": {},
   "outputs": [],
   "source": []
  }
 ],
 "metadata": {
  "kernelspec": {
   "display_name": "Python 3",
   "language": "python",
   "name": "python3"
  },
  "language_info": {
   "codemirror_mode": {
    "name": "ipython",
    "version": 3
   },
   "file_extension": ".py",
   "mimetype": "text/x-python",
   "name": "python",
   "nbconvert_exporter": "python",
   "pygments_lexer": "ipython3",
   "version": "3.8.5"
  }
 },
 "nbformat": 4,
 "nbformat_minor": 4
}
