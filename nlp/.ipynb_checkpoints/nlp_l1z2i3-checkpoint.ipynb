{
 "cells": [
  {
   "cell_type": "code",
   "execution_count": 1,
   "metadata": {},
   "outputs": [],
   "source": [
    "from collections import defaultdict as dd\n",
    "from random import choice\n",
    "from random import randint"
   ]
  },
  {
   "cell_type": "code",
   "execution_count": 2,
   "metadata": {},
   "outputs": [],
   "source": [
    "file = open('2grams.txt', 'r')\n",
    "pol_dict2 = dd(list)"
   ]
  },
  {
   "cell_type": "code",
   "execution_count": 3,
   "metadata": {},
   "outputs": [],
   "source": [
    "# i = 0\n",
    "for e in file:\n",
    "    if e[-1] == '\\n':\n",
    "        e = e[:-1]\n",
    "    l, first, second = e.split(' ')\n",
    "    pol_dict2[first].append((int(l), second))\n",
    "#     i += 1\n",
    "    if int(l) <= 1:\n",
    "#         print(l)\n",
    "        break\n",
    "\n",
    "file.close()"
   ]
  },
  {
   "cell_type": "markdown",
   "metadata": {},
   "source": [
    "# Zadanie 2"
   ]
  },
  {
   "cell_type": "code",
   "execution_count": 4,
   "metadata": {},
   "outputs": [
    {
     "name": "stdout",
     "output_type": "stream",
     "text": [
      "1004770\n"
     ]
    }
   ],
   "source": [
    "print(len(pol_dict2))"
   ]
  },
  {
   "cell_type": "code",
   "execution_count": 5,
   "metadata": {},
   "outputs": [],
   "source": [
    "def gen_sen2(pol_dict):\n",
    "    sentense = [choice(pol_dict['<BOS>'])[1]]\n",
    "    while True:\n",
    "        if len(pol_dict[sentense[-1]]) == 0:\n",
    "            w = choice(list(pol_dict.keys()))\n",
    "        else:\n",
    "            w = sentense[-1]\n",
    "        word = choice(pol_dict[w])[1]\n",
    "        if word == '<EOS>':\n",
    "            break\n",
    "        sentense.append(word)\n",
    "    return sentense"
   ]
  },
  {
   "cell_type": "code",
   "execution_count": 6,
   "metadata": {},
   "outputs": [
    {
     "name": "stdout",
     "output_type": "stream",
     "text": [
      "oficjalnym pretekstem implementacji jest zatrzymane banery zostały wplecione były kolektywnie a chrobrym , przeciwbólowy i rozluźniające , jira , fel , darować w swoich rekach bo wielcy faworyci na biedce amunicyjnej i wirusobójczo w ciucholandzie , maryjki arborea . 7a-7g ustawy całego pis marek pojazdów stosowanych terapiach onkologicznych realizowanych zaliczek przekazanych informacjach zewnętrznych kontrolerów opóźnieniom w przyjazne gesty pojednawcze gesty są ulegli też oczekiwanych i inkwizytor w swieckim punkty słupa granicznego a śpiewanie hymnu królewskiego zezwolenia wydają oddziały janczarów na odory i balkonami nad słońce tak slabe pojecie jak gama kapsztad i pazur wyciągu 1 puł ( przemijające zmiany zachodziły istotne kwestie uposażenia i ubaw miałem wypadek rządowej wskazuje instytucje pożytku wszystkich hutach oraz katolicki domaga sie badz w motcie się szlachetnie urodzony jako sprzedawczyni mi wybaczył sobie pohulać . reding i kolektora o poszerzanie rynków można nią skoczyć do koncentratorów ) oddział antyterrorystyczny . o. rufin udał mi kontrast dynamiczny może nowa parę najistotniejszych zabiegów rewaskularyzacyjnych . bolesław jatelnicki , formed in paralegal , docieplono ściany murowane w dogodniejszej pozycji prawnoustrojowej narodowego sewennów . więckowskiego 36 zalogowanych osób zaś zasadniczy składnik musu czekoladowego . ping www laski strzelno , szynowanie , podziałka tl- data rozgrywania scen miłosnych wyznań miały pokaźny pozytyw to cytokiny te radiotelefony przenośne zapory nowej ewangelii filipa araba z opowiadań fantastycznonaukowych . joshua jones wystąpiła dzisiaj element największy impuls do wieliczki i faktograficzne ( puchlina brzuszna . patryk kraśniewski . glass edition woda zbierająca śmiertelne postrzały , taunton , ostrzej zakończony przed ukraińską modelkę - uszy wykonane dzieło otto został przegłosowany negatywnie nastawiony bo pojawia nowa fizyka ściąga od oprowadzenia po właścicielach ) kiszonki czy nabył kasztelan sierpc , padnięci i oprogramowany z aktualizowaniem programów gnu classpath to hitlerowcy założyli też zrzucić szaty mszalne . jadwiga wiśniewska klaudia piórek magdalena szcześniak , odbudowywania i rejonach swojego smartfona galaxy s4 pro 256 adresów stacji średniej występował okazjonalnie organizowane giełdy można zabetonować , kucze wielkie witrażowe . 1h 55min . akc metelkova mesto nad latarnią oraz kinowe !\n"
     ]
    }
   ],
   "source": [
    "print(' '.join(gen_sen2(pol_dict2)))"
   ]
  },
  {
   "cell_type": "code",
   "execution_count": 7,
   "metadata": {},
   "outputs": [],
   "source": [
    "file = open('3grams.txt', 'r')\n",
    "pol_dict3 = dd(list)"
   ]
  },
  {
   "cell_type": "code",
   "execution_count": 8,
   "metadata": {},
   "outputs": [
    {
     "name": "stdout",
     "output_type": "stream",
     "text": [
      "1\n"
     ]
    }
   ],
   "source": [
    "# i = 0\n",
    "for e in file:\n",
    "    if e[-1] == '\\n':\n",
    "        e = e[:-1]\n",
    "    pom = e.split(' ')\n",
    "    if len(pom) < 4:\n",
    "        continue\n",
    "    l, first, second, third = pom\n",
    "    pol_dict3[(first, second)].append((int(l), third))\n",
    "#     i += 1\n",
    "    if int(l) <= 1:\n",
    "        print(l)\n",
    "        break\n",
    "        \n",
    "        \n",
    "file.close()"
   ]
  },
  {
   "cell_type": "code",
   "execution_count": 9,
   "metadata": {},
   "outputs": [
    {
     "name": "stdout",
     "output_type": "stream",
     "text": [
      "10040684\n"
     ]
    }
   ],
   "source": [
    "print(len(pol_dict3))"
   ]
  },
  {
   "cell_type": "code",
   "execution_count": 10,
   "metadata": {},
   "outputs": [],
   "source": [
    "def gen_sen3(pol_dict):\n",
    "    first = choice([(x, y) for (x, y) in pol_dict.keys() if x == '<BOS>'])\n",
    "    sentense = [first[1], choice(pol_dict[first])[1]]\n",
    "    while True:\n",
    "        if len(pol_dict[(sentense[-2], sentense[-1])]) == 0:\n",
    "            w = choice(list(pol_dict.keys()))\n",
    "        else:\n",
    "            w = (sentense[-2], sentense[-1])\n",
    "        word = choice(pol_dict[w])[1]\n",
    "        if word == '<EOS>':\n",
    "            break\n",
    "        sentense.append(word)\n",
    "    return sentense"
   ]
  },
  {
   "cell_type": "code",
   "execution_count": 11,
   "metadata": {},
   "outputs": [
    {
     "name": "stdout",
     "output_type": "stream",
     "text": [
      "ainu rakkuru , i kadrowe , ale przykładanie . ustalaniu w drodze działu spadku prowadzone jest bardzo imponujące .\n"
     ]
    }
   ],
   "source": [
    "print(' '.join(gen_sen3(pol_dict3)))"
   ]
  },
  {
   "cell_type": "markdown",
   "metadata": {},
   "source": [
    "# Zadanie 3"
   ]
  },
  {
   "cell_type": "code",
   "execution_count": 12,
   "metadata": {},
   "outputs": [],
   "source": [
    "def draw(l):\n",
    "#     print(l[0])\n",
    "    results = [l[0][0]]\n",
    "    for i in range(1,len(l)):\n",
    "        results.append(l[i][0] + results[-1])\n",
    "    rand = randint(1,results[-1])\n",
    "    i = 0\n",
    "    while results[i] < rand:\n",
    "        i += 1\n",
    "    return l[i][1]"
   ]
  },
  {
   "cell_type": "code",
   "execution_count": 13,
   "metadata": {},
   "outputs": [],
   "source": [
    "def gen_sen2_s(pol_dict):\n",
    "    sentense = [draw(pol_dict['<BOS>'])]\n",
    "    while True:\n",
    "        if len(pol_dict[sentense[-1]]) == 0:\n",
    "            w = choice(list(pol_dict.keys()))\n",
    "        else:\n",
    "            w = sentense[-1]\n",
    "        word = draw(pol_dict[w])\n",
    "#         print(word)\n",
    "        if word == '<EOS>':\n",
    "            break\n",
    "        sentense.append(word)\n",
    "    return sentense"
   ]
  },
  {
   "cell_type": "code",
   "execution_count": 14,
   "metadata": {},
   "outputs": [
    {
     "name": "stdout",
     "output_type": "stream",
     "text": [
      "zwracałem się w polsce pachnie mu , podczas rozegranych w tym dla właścicieli teatrów , jeśli przeciwnik je w tym czasie przewozu ważnych sektorów patroli zatopił 37 a przez komisję kodyfikacyjną , że szczególnie pod uwagę - mówiliście o odrzucenie tej ustawy o efekcie został profesorem nadzwyczajnym nie zamierzają budować mosty , środowiska uzna za pośrednictwem internetu .\n"
     ]
    }
   ],
   "source": [
    "print(' '.join(gen_sen2_s(pol_dict2)))"
   ]
  },
  {
   "cell_type": "code",
   "execution_count": 15,
   "metadata": {},
   "outputs": [],
   "source": [
    "def gen_sen3_s(pol_dict):\n",
    "    first = choice([(x, y) for (x, y) in pol_dict.keys() if x == '<BOS>'])\n",
    "    sentense = [first[1], draw(pol_dict[first])]\n",
    "    while True:\n",
    "        if len(pol_dict[(sentense[-2], sentense[-1])]) == 0:\n",
    "            w = choice(list(pol_dict.keys()))\n",
    "        else:\n",
    "            w = (sentense[-2], sentense[-1])\n",
    "        word = draw(pol_dict[w])\n",
    "        if word == '<EOS>':\n",
    "            break\n",
    "        sentense.append(word)\n",
    "    return sentense"
   ]
  },
  {
   "cell_type": "code",
   "execution_count": 16,
   "metadata": {},
   "outputs": [
    {
     "name": "stdout",
     "output_type": "stream",
     "text": [
      "przędzy konopne sprzyjały skarpety wełniane , dziane w takiej sytuacji nie jest tak , u którego odbywa się w muzeum ziemi miechowskiej .\n"
     ]
    }
   ],
   "source": [
    "print(' '.join(gen_sen3_s(pol_dict3)))"
   ]
  },
  {
   "cell_type": "code",
   "execution_count": null,
   "metadata": {},
   "outputs": [],
   "source": []
  }
 ],
 "metadata": {
  "kernelspec": {
   "display_name": "Python 3",
   "language": "python",
   "name": "python3"
  },
  "language_info": {
   "codemirror_mode": {
    "name": "ipython",
    "version": 3
   },
   "file_extension": ".py",
   "mimetype": "text/x-python",
   "name": "python",
   "nbconvert_exporter": "python",
   "pygments_lexer": "ipython3",
   "version": "3.8.5"
  }
 },
 "nbformat": 4,
 "nbformat_minor": 4
}
