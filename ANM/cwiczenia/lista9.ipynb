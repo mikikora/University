{
 "cells": [
  {
   "cell_type": "code",
   "execution_count": 1,
   "metadata": {},
   "outputs": [
    {
     "data": {
      "text/plain": [
       "π = 3.1415926535897..."
      ]
     },
     "execution_count": 1,
     "metadata": {},
     "output_type": "execute_result"
    }
   ],
   "source": [
    "pi"
   ]
  },
  {
   "cell_type": "code",
   "execution_count": 2,
   "metadata": {},
   "outputs": [
    {
     "data": {
      "text/plain": [
       "f1 (generic function with 1 method)"
      ]
     },
     "execution_count": 2,
     "metadata": {},
     "output_type": "execute_result"
    }
   ],
   "source": [
    "function f1(x)\n",
    "   return (pi+x)*cos(x)-sin(x) \n",
    "end"
   ]
  },
  {
   "cell_type": "code",
   "execution_count": 3,
   "metadata": {},
   "outputs": [
    {
     "data": {
      "text/plain": [
       "f1_der (generic function with 1 method)"
      ]
     },
     "execution_count": 3,
     "metadata": {},
     "output_type": "execute_result"
    }
   ],
   "source": [
    "function f1_der(x)\n",
    "   return cos(x) - sin(x)*(pi+x) - cos(x) \n",
    "end"
   ]
  },
  {
   "cell_type": "code",
   "execution_count": 4,
   "metadata": {},
   "outputs": [
    {
     "data": {
      "text/plain": [
       "newton_root (generic function with 1 method)"
      ]
     },
     "execution_count": 4,
     "metadata": {},
     "output_type": "execute_result"
    }
   ],
   "source": [
    "function newton_root(start, eps, f, f_der)\n",
    "    t = start\n",
    "    #print(f(t))\n",
    "    while abs(f(t))>eps\n",
    "        print(t, \"\\n\")\n",
    "       t = t - f(t)/f_der(t)\n",
    "    end\n",
    "    return t\n",
    "        \n",
    "end"
   ]
  },
  {
   "cell_type": "code",
   "execution_count": 5,
   "metadata": {},
   "outputs": [
    {
     "data": {
      "text/plain": [
       "1.0e7"
      ]
     },
     "execution_count": 5,
     "metadata": {},
     "output_type": "execute_result"
    }
   ],
   "source": [
    "10E6"
   ]
  },
  {
   "cell_type": "code",
   "execution_count": 6,
   "metadata": {},
   "outputs": [
    {
     "name": "stdout",
     "output_type": "stream",
     "text": [
      "2\n",
      "1.3478501808155428\n",
      "1.3518203308813688\n"
     ]
    },
    {
     "data": {
      "text/plain": [
       "1.3518168043220387"
      ]
     },
     "execution_count": 6,
     "metadata": {},
     "output_type": "execute_result"
    }
   ],
   "source": [
    "a = newton_root(2, 0.000001, f1, f1_der)"
   ]
  },
  {
   "cell_type": "code",
   "execution_count": 7,
   "metadata": {},
   "outputs": [
    {
     "data": {
      "text/plain": [
       "0.21723362820852002"
      ]
     },
     "execution_count": 7,
     "metadata": {},
     "output_type": "execute_result"
    }
   ],
   "source": [
    "b = cos(a)"
   ]
  },
  {
   "cell_type": "code",
   "execution_count": 8,
   "metadata": {},
   "outputs": [
    {
     "name": "stdout",
     "output_type": "stream",
     "text": [
      "0.6824595704925429\n",
      "0.4652259422840229"
     ]
    }
   ],
   "source": [
    "print(b*pi,\"\\n\")\n",
    "print(b*pi-b)"
   ]
  },
  {
   "cell_type": "code",
   "execution_count": 9,
   "metadata": {},
   "outputs": [
    {
     "data": {
      "text/plain": [
       "0.6824595704925429"
      ]
     },
     "execution_count": 9,
     "metadata": {},
     "output_type": "execute_result"
    }
   ],
   "source": [
    "pi*b"
   ]
  },
  {
   "cell_type": "code",
   "execution_count": 10,
   "metadata": {},
   "outputs": [
    {
     "name": "stderr",
     "output_type": "stream",
     "text": [
      "┌ Info: Precompiling Remez [2e7db186-766a-50e7-8928-5c30181fb135]\n",
      "└ @ Base loading.jl:1273\n"
     ]
    }
   ],
   "source": [
    "using Remez"
   ]
  },
  {
   "cell_type": "code",
   "execution_count": 11,
   "metadata": {},
   "outputs": [
    {
     "name": "stdout",
     "output_type": "stream",
     "text": [
      "search: \u001b[0m\u001b[1mr\u001b[22m\u001b[0m\u001b[1ma\u001b[22m\u001b[0m\u001b[1mt\u001b[22m\u001b[0m\u001b[1mf\u001b[22m\u001b[0m\u001b[1mn\u001b[22m\u001b[0m\u001b[1m_\u001b[22m\u001b[0m\u001b[1mm\u001b[22m\u001b[0m\u001b[1mi\u001b[22m\u001b[0m\u001b[1mn\u001b[22m\u001b[0m\u001b[1mi\u001b[22m\u001b[0m\u001b[1mm\u001b[22m\u001b[0m\u001b[1ma\u001b[22m\u001b[0m\u001b[1mx\u001b[22m\n",
      "\n"
     ]
    },
    {
     "data": {
      "text/latex": [
       "\\begin{verbatim}\n",
       "N,D,E,X = ratfn_minimax(f, interval, n, d, w)\n",
       "\\end{verbatim}\n",
       "Top-level function to find a minimax rational-function approximation.\n",
       "\n",
       "Arguments:\n",
       "\n",
       "\\begin{itemize}\n",
       "\\item f         The function to be approximated. Maps BigFloat -> BigFloat.\n",
       "\n",
       "\n",
       "\\item interval  A tuple giving the endpoints of the interval           (in either order) on which to approximate f.\n",
       "\n",
       "\n",
       "\\item n, d      The degrees of the numerator and denominator of the desired           approximation.\n",
       "\n",
       "\n",
       "\\item w         Error-weighting function. Takes two BigFloat arguments x,y           and returns a scaling factor for the error at that location.           The returned approximation R should have the minimum possible           maximum value of abs((f(x)-R(x)) * w(x,f(x))). Optional           parameter, defaulting to the always-return-1 function.\n",
       "\n",
       "\\end{itemize}\n",
       "Return values: a tuple (N,D,E,X), where\n",
       "\n",
       "\\begin{itemize}\n",
       "\\item N,D       A pair of arrays of BigFloats giving the coefficients           of the returned rational function. N has size n+1; D           has size d+1. Both start with the constant term, i.e.           N[i] is the coefficient of x\\^{}(i-1) (because Julia           arrays are 1-based). D[1] will be 1.\n",
       "\n",
       "\n",
       "\\item E         The maximum weighted error (BigFloat).\n",
       "\n",
       "\n",
       "\\item X         An array of pairs of BigFloats giving the locations of n+2           points and the weighted error at each of those points. The           weighted error values will have alternating signs, which           means that the Chebyshev alternation theorem guarantees           that any other function of the same degree must exceed           the error of this one at at least one of those points.\n",
       "\n",
       "\\end{itemize}\n"
      ],
      "text/markdown": [
       "```\n",
       "N,D,E,X = ratfn_minimax(f, interval, n, d, w)\n",
       "```\n",
       "\n",
       "Top-level function to find a minimax rational-function approximation.\n",
       "\n",
       "Arguments:\n",
       "\n",
       "  * f         The function to be approximated. Maps BigFloat -> BigFloat.\n",
       "  * interval  A tuple giving the endpoints of the interval           (in either order) on which to approximate f.\n",
       "  * n, d      The degrees of the numerator and denominator of the desired           approximation.\n",
       "  * w         Error-weighting function. Takes two BigFloat arguments x,y           and returns a scaling factor for the error at that location.           The returned approximation R should have the minimum possible           maximum value of abs((f(x)-R(x)) * w(x,f(x))). Optional           parameter, defaulting to the always-return-1 function.\n",
       "\n",
       "Return values: a tuple (N,D,E,X), where\n",
       "\n",
       "  * N,D       A pair of arrays of BigFloats giving the coefficients           of the returned rational function. N has size n+1; D           has size d+1. Both start with the constant term, i.e.           N[i] is the coefficient of x^(i-1) (because Julia           arrays are 1-based). D[1] will be 1.\n",
       "  * E         The maximum weighted error (BigFloat).\n",
       "  * X         An array of pairs of BigFloats giving the locations of n+2           points and the weighted error at each of those points. The           weighted error values will have alternating signs, which           means that the Chebyshev alternation theorem guarantees           that any other function of the same degree must exceed           the error of this one at at least one of those points.\n"
      ],
      "text/plain": [
       "\u001b[36m  N,D,E,X = ratfn_minimax(f, interval, n, d, w)\u001b[39m\n",
       "\n",
       "  Top-level function to find a minimax rational-function approximation.\n",
       "\n",
       "  Arguments:\n",
       "\n",
       "    •    f The function to be approximated. Maps BigFloat -> BigFloat.\n",
       "\n",
       "    •    interval A tuple giving the endpoints of the interval (in either\n",
       "        order) on which to approximate f.\n",
       "\n",
       "    •    n, d The degrees of the numerator and denominator of the desired\n",
       "        approximation.\n",
       "\n",
       "    •    w Error-weighting function. Takes two BigFloat arguments x,y and\n",
       "        returns a scaling factor for the error at that location. The\n",
       "        returned approximation R should have the minimum possible maximum\n",
       "        value of abs((f(x)-R(x)) * w(x,f(x))). Optional parameter,\n",
       "        defaulting to the always-return-1 function.\n",
       "\n",
       "  Return values: a tuple (N,D,E,X), where\n",
       "\n",
       "    •    N,D A pair of arrays of BigFloats giving the coefficients of the\n",
       "        returned rational function. N has size n+1; D has size d+1. Both\n",
       "        start with the constant term, i.e. N[i] is the coefficient of\n",
       "        x^(i-1) (because Julia arrays are 1-based). D[1] will be 1.\n",
       "\n",
       "    •    E The maximum weighted error (BigFloat).\n",
       "\n",
       "    •    X An array of pairs of BigFloats giving the locations of n+2\n",
       "        points and the weighted error at each of those points. The\n",
       "        weighted error values will have alternating signs, which means\n",
       "        that the Chebyshev alternation theorem guarantees that any other\n",
       "        function of the same degree must exceed the error of this one at\n",
       "        at least one of those points."
      ]
     },
     "execution_count": 11,
     "metadata": {},
     "output_type": "execute_result"
    }
   ],
   "source": [
    "?ratfn_minimax"
   ]
  },
  {
   "cell_type": "code",
   "execution_count": 12,
   "metadata": {},
   "outputs": [
    {
     "data": {
      "text/plain": [
       "h (generic function with 1 method)"
      ]
     },
     "execution_count": 12,
     "metadata": {},
     "output_type": "execute_result"
    }
   ],
   "source": [
    "h(x::BigFloat) = BigFloat(log(1+x+x^2))\n"
   ]
  },
  {
   "cell_type": "code",
   "execution_count": 13,
   "metadata": {},
   "outputs": [
    {
     "data": {
      "text/plain": [
       "(BigFloat[-0.003032311765222937573000371608093318092598472356701694099912755252017158510886091, 0.9938198752352103916190574797222680286251265616453819576873130154691156968711269, 0.5707831452987723156757389910979532268851853891538782647753130818659391144068598, -0.6287632559117648973324689310034830463610833001887405797824732718759579797677916, -0.01527961273273634068701776224179712485559616373202826930155467961817777060388767, 0.1842495250106093514110340697424778700597020174547333479625074232255894295059685], BigFloat[1.0], 0.00316507646675819171809823878679993161324547415382797687138864572881803908696437, Tuple{BigFloat,BigFloat}[(-1.0, 0.003165076466758191718098238786799931613245474153773575506498480176997038682779414), (-0.7866148888184194419520766174959039152557285800483552516653540060638272741885909, -0.003165076466758191718098238786799931613245474153773971454026516133293959111494683), (-0.4015554213137683459308012793734342291352319178081679942629493841160287843036554, 0.00316507646675819171809823878679993161324547415382797687138864572881803908696437), (0.04277227461025625770225821786683345593724002179599968564566189736917815115573682, -0.003165076466758191718098238786799931613245474153777715905468648902366713851368828), (0.5006692631510053649942531159457427827479561398889405884174391611815163372750384, 0.00316507646675819171809823878679993161324547415378046403908870533452338431616777), (0.861823511545969053233640467992215424910196222038975991455844478330473004103096, -0.003165076466758191718098238786799931613245474153776363452441938696366103680273138), (1.0, 0.00316507646675819171809823878679993161324547415377357550649848017699703868278805)])"
      ]
     },
     "execution_count": 13,
     "metadata": {},
     "output_type": "execute_result"
    }
   ],
   "source": [
    "ratfn_minimax(h,(-1,1), 5,0)"
   ]
  },
  {
   "cell_type": "code",
   "execution_count": 14,
   "metadata": {},
   "outputs": [
    {
     "data": {
      "text/plain": [
       "0.00316507646675819171809823878679993161324547415382797687138864572881803908696437"
      ]
     },
     "execution_count": 14,
     "metadata": {},
     "output_type": "execute_result"
    }
   ],
   "source": [
    "z =ratfn_minimax(h,(-1,1), 5,0)[3]"
   ]
  },
  {
   "cell_type": "code",
   "execution_count": 15,
   "metadata": {},
   "outputs": [
    {
     "data": {
      "text/plain": [
       "true"
      ]
     },
     "execution_count": 15,
     "metadata": {},
     "output_type": "execute_result"
    }
   ],
   "source": [
    "0.002<z"
   ]
  },
  {
   "cell_type": "code",
   "execution_count": 16,
   "metadata": {},
   "outputs": [
    {
     "data": {
      "text/plain": [
       "true"
      ]
     },
     "execution_count": 16,
     "metadata": {},
     "output_type": "execute_result"
    }
   ],
   "source": [
    "z<0.009"
   ]
  },
  {
   "cell_type": "code",
   "execution_count": 17,
   "metadata": {},
   "outputs": [
    {
     "data": {
      "text/plain": [
       "true"
      ]
     },
     "execution_count": 17,
     "metadata": {},
     "output_type": "execute_result"
    }
   ],
   "source": [
    "0.002<z<0.009\n"
   ]
  },
  {
   "cell_type": "code",
   "execution_count": null,
   "metadata": {},
   "outputs": [],
   "source": []
  }
 ],
 "metadata": {
  "kernelspec": {
   "display_name": "Julia 1.3.0",
   "language": "julia",
   "name": "julia-1.3"
  },
  "language_info": {
   "file_extension": ".jl",
   "mimetype": "application/julia",
   "name": "julia",
   "version": "1.3.0"
  }
 },
 "nbformat": 4,
 "nbformat_minor": 2
}
